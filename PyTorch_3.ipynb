{
  "nbformat": 4,
  "nbformat_minor": 0,
  "metadata": {
    "colab": {
      "name": "PyTorch_3.ipynb",
      "provenance": [],
      "collapsed_sections": [],
      "include_colab_link": true
    },
    "kernelspec": {
      "name": "python3",
      "display_name": "Python 3"
    },
    "accelerator": "GPU"
  },
  "cells": [
    {
      "cell_type": "markdown",
      "metadata": {
        "id": "view-in-github",
        "colab_type": "text"
      },
      "source": [
        "<a href=\"https://colab.research.google.com/github/KamonohashiPerry/PyTorch/blob/master/PyTorch_3.ipynb\" target=\"_parent\"><img src=\"https://colab.research.google.com/assets/colab-badge.svg\" alt=\"Open In Colab\"/></a>"
      ]
    },
    {
      "cell_type": "markdown",
      "metadata": {
        "id": "QAOHHDYbEu2_",
        "colab_type": "text"
      },
      "source": [
        "# PyTorchのインストール\n",
        "+ Colabの編集→ノートブックの設定でGPUモードにすることをお忘れなく。"
      ]
    },
    {
      "cell_type": "code",
      "metadata": {
        "id": "TlpBf3IKDFa7",
        "colab_type": "code",
        "colab": {}
      },
      "source": [
        "# pip install http://download.pytorch.org/whl/cu80/torch-0.4.0-cp36-cp36m-linux_x86_64.whl"
      ],
      "execution_count": 0,
      "outputs": []
    },
    {
      "cell_type": "code",
      "metadata": {
        "id": "7WwXlb0YDmQy",
        "colab_type": "code",
        "colab": {}
      },
      "source": [
        "# pip install torchvision"
      ],
      "execution_count": 0,
      "outputs": []
    },
    {
      "cell_type": "code",
      "metadata": {
        "id": "fsyLenx3E0b1",
        "colab_type": "code",
        "colab": {}
      },
      "source": [
        "# pip install tqdm"
      ],
      "execution_count": 0,
      "outputs": []
    },
    {
      "cell_type": "markdown",
      "metadata": {
        "id": "PDudM7UfFbDV",
        "colab_type": "text"
      },
      "source": [
        "インストールできたかの確認"
      ]
    },
    {
      "cell_type": "code",
      "metadata": {
        "id": "Q78xEOX1FQbl",
        "colab_type": "code",
        "colab": {}
      },
      "source": [
        "# import torch"
      ],
      "execution_count": 0,
      "outputs": []
    },
    {
      "cell_type": "code",
      "metadata": {
        "id": "8ge4WLbSFe2Z",
        "colab_type": "code",
        "colab": {}
      },
      "source": [
        "# torch.tensor([1, 2, 3]).to(\"cuda:0\")"
      ],
      "execution_count": 0,
      "outputs": []
    },
    {
      "cell_type": "code",
      "metadata": {
        "id": "sj_rcAHbNNs-",
        "colab_type": "code",
        "outputId": "8f2cb0c3-a96a-4852-f837-c8746c331687",
        "colab": {
          "base_uri": "https://localhost:8080/",
          "height": 224
        }
      },
      "source": [
        "!apt-get install -y -qq software-properties-common python-software-properties module-init-tools\n",
        "!add-apt-repository -y ppa:alessandro-strada/ppa 2>&1 > /dev/null\n",
        "!apt-get update -qq 2>&1 > /dev/null\n",
        "!apt-get -y install -qq google-drive-ocamlfuse fuse\n",
        "\n",
        "from google.colab import auth\n",
        "auth.authenticate_user()\n",
        "from oauth2client.client import GoogleCredentials\n",
        "creds = GoogleCredentials.get_application_default()\n",
        "import getpass\n",
        "!google-drive-ocamlfuse -headless -id={creds.client_id} -secret={creds.client_secret} < /dev/null 2>&1 | grep URL\n",
        "\n",
        "vcode = getpass.getpass()\n",
        "!echo {vcode} | google-drive-ocamlfuse -headless -id={creds.client_id} -secret={creds.client_secret}"
      ],
      "execution_count": 6,
      "outputs": [
        {
          "output_type": "stream",
          "text": [
            "E: Package 'python-software-properties' has no installation candidate\n",
            "Selecting previously unselected package google-drive-ocamlfuse.\n",
            "(Reading database ... 145605 files and directories currently installed.)\n",
            "Preparing to unpack .../google-drive-ocamlfuse_0.7.14-0ubuntu1~ubuntu18.04.1_amd64.deb ...\n",
            "Unpacking google-drive-ocamlfuse (0.7.14-0ubuntu1~ubuntu18.04.1) ...\n",
            "Setting up google-drive-ocamlfuse (0.7.14-0ubuntu1~ubuntu18.04.1) ...\n",
            "Processing triggers for man-db (2.8.3-2ubuntu0.1) ...\n",
            "Please, open the following URL in a web browser: https://accounts.google.com/o/oauth2/auth?client_id=32555940559.apps.googleusercontent.com&redirect_uri=urn%3Aietf%3Awg%3Aoauth%3A2.0%3Aoob&scope=https%3A%2F%2Fwww.googleapis.com%2Fauth%2Fdrive&response_type=code&access_type=offline&approval_prompt=force\n",
            "··········\n",
            "Please, open the following URL in a web browser: https://accounts.google.com/o/oauth2/auth?client_id=32555940559.apps.googleusercontent.com&redirect_uri=urn%3Aietf%3Awg%3Aoauth%3A2.0%3Aoob&scope=https%3A%2F%2Fwww.googleapis.com%2Fauth%2Fdrive&response_type=code&access_type=offline&approval_prompt=force\n",
            "Please enter the verification code: Access token retrieved correctly.\n"
          ],
          "name": "stdout"
        }
      ]
    },
    {
      "cell_type": "code",
      "metadata": {
        "id": "KLBrtJ1pNTM5",
        "colab_type": "code",
        "outputId": "414ec173-e07d-468a-dddf-2b320dd64e58",
        "colab": {
          "base_uri": "https://localhost:8080/",
          "height": 34
        }
      },
      "source": [
        "# drive mean root directory of  google drive\n",
        "!mkdir -p drive\n",
        "!google-drive-ocamlfuse drive\n",
        "!ls drive/\"Colab Notebooks\"/PyTorch"
      ],
      "execution_count": 7,
      "outputs": [
        {
          "output_type": "stream",
          "text": [
            "FashionMNIST  PyTorch_2.ipynb  PyTorch.ipynb  Untitled0.ipynb\n"
          ],
          "name": "stdout"
        }
      ]
    },
    {
      "cell_type": "code",
      "metadata": {
        "id": "Jqce7TQpg2md",
        "colab_type": "code",
        "colab": {}
      },
      "source": [
        "import torch\n",
        "from torch import nn, optim\n",
        "from torch.utils.data import (Dataset, DataLoader, TensorDataset)\n",
        "import tqdm\n",
        "\n",
        "import warnings\n",
        "warnings.filterwarnings('ignore')"
      ],
      "execution_count": 0,
      "outputs": []
    },
    {
      "cell_type": "markdown",
      "metadata": {
        "id": "HrzCWuPyhkWc",
        "colab_type": "text"
      },
      "source": [
        "# Chapter5\n",
        "## Embedding"
      ]
    },
    {
      "cell_type": "code",
      "metadata": {
        "id": "jee_mPdig5z-",
        "colab_type": "code",
        "colab": {}
      },
      "source": [
        "# 10000種類のトークンを20次元のベクトルで表現\n",
        "emb = nn.Embedding(10000, 20, padding_idx=0)\n",
        "\n",
        "# Embedding層への入力はint64のTensor\n",
        "inp = torch.tensor([1, 2, 5, 2, 10], dtype=torch.int64)\n",
        "\n",
        "# 出力はfloat32のTensor\n",
        "out = emb(inp)"
      ],
      "execution_count": 0,
      "outputs": []
    },
    {
      "cell_type": "code",
      "metadata": {
        "id": "RvixmHZgiFj1",
        "colab_type": "code",
        "colab": {
          "base_uri": "https://localhost:8080/",
          "height": 272
        },
        "outputId": "15af1239-8edd-46f9-cd5a-03ce175b878f"
      },
      "source": [
        "out"
      ],
      "execution_count": 10,
      "outputs": [
        {
          "output_type": "execute_result",
          "data": {
            "text/plain": [
              "tensor([[-0.6818, -2.3338,  0.8712,  0.2704, -1.5498, -0.0728,  1.1133,  0.0600,\n",
              "          0.4576,  1.2866,  0.9042, -1.0572, -0.7488, -1.1120, -0.9695, -0.2845,\n",
              "         -0.4058, -0.2447,  0.7323,  0.6415],\n",
              "        [ 0.5350, -0.9210, -0.8986, -0.4993,  1.6079, -0.0089, -0.4565,  0.4869,\n",
              "          0.2340,  0.0406, -0.7045, -0.9757,  0.7892, -0.3364,  1.3611,  2.2814,\n",
              "          0.8039,  1.3851,  0.2326,  0.4055],\n",
              "        [ 0.0333,  1.3406,  0.0337,  0.0873,  0.5999, -0.7792, -0.4762,  0.8514,\n",
              "          0.3778, -0.3419, -0.8643,  1.5603,  0.9217,  1.5835, -0.3847,  0.4682,\n",
              "         -0.1953, -0.3180,  3.1917, -1.3123],\n",
              "        [ 0.5350, -0.9210, -0.8986, -0.4993,  1.6079, -0.0089, -0.4565,  0.4869,\n",
              "          0.2340,  0.0406, -0.7045, -0.9757,  0.7892, -0.3364,  1.3611,  2.2814,\n",
              "          0.8039,  1.3851,  0.2326,  0.4055],\n",
              "        [-1.1298,  2.8610, -0.5192,  1.2282, -0.9699, -0.0634, -1.9837,  0.2633,\n",
              "          0.0437,  2.2437, -0.7240, -0.0681,  2.5175, -0.1046,  1.4203, -1.5621,\n",
              "          0.0706, -0.9407,  0.9255,  0.2632]], grad_fn=<EmbeddingBackward>)"
            ]
          },
          "metadata": {
            "tags": []
          },
          "execution_count": 10
        }
      ]
    },
    {
      "cell_type": "code",
      "metadata": {
        "id": "SyOu1G2GiLiH",
        "colab_type": "code",
        "colab": {
          "base_uri": "https://localhost:8080/",
          "height": 204
        },
        "outputId": "d69b0baa-4145-4bd6-8eab-84d0ee7f612e"
      },
      "source": [
        "!wget http://ai.stanford.edu/~amaas/data/sentiment/aclImdb_v1.tar.gz"
      ],
      "execution_count": 11,
      "outputs": [
        {
          "output_type": "stream",
          "text": [
            "--2019-12-03 11:37:47--  http://ai.stanford.edu/~amaas/data/sentiment/aclImdb_v1.tar.gz\n",
            "Resolving ai.stanford.edu (ai.stanford.edu)... 171.64.68.10\n",
            "Connecting to ai.stanford.edu (ai.stanford.edu)|171.64.68.10|:80... connected.\n",
            "HTTP request sent, awaiting response... 200 OK\n",
            "Length: 84125825 (80M) [application/x-gzip]\n",
            "Saving to: ‘aclImdb_v1.tar.gz’\n",
            "\n",
            "aclImdb_v1.tar.gz   100%[===================>]  80.23M  19.5MB/s    in 7.1s    \n",
            "\n",
            "2019-12-03 11:37:55 (11.3 MB/s) - ‘aclImdb_v1.tar.gz’ saved [84125825/84125825]\n",
            "\n"
          ],
          "name": "stdout"
        }
      ]
    },
    {
      "cell_type": "code",
      "metadata": {
        "id": "jH5ghJTsjVCI",
        "colab_type": "code",
        "colab": {}
      },
      "source": [
        "!tar xf aclImdb_v1.tar.gz"
      ],
      "execution_count": 0,
      "outputs": []
    },
    {
      "cell_type": "code",
      "metadata": {
        "id": "Cye5Y30LjcQ9",
        "colab_type": "code",
        "colab": {
          "base_uri": "https://localhost:8080/",
          "height": 34
        },
        "outputId": "62ffc163-10b1-4276-8355-3a9b547f17ac"
      },
      "source": [
        "ls"
      ],
      "execution_count": 14,
      "outputs": [
        {
          "output_type": "stream",
          "text": [
            "\u001b[0m\u001b[01;34maclImdb\u001b[0m/  aclImdb_v1.tar.gz  adc.json  \u001b[01;34mdrive\u001b[0m/  \u001b[01;34msample_data\u001b[0m/\n"
          ],
          "name": "stdout"
        }
      ]
    },
    {
      "cell_type": "code",
      "metadata": {
        "id": "jS_qaYfKjk7C",
        "colab_type": "code",
        "colab": {}
      },
      "source": [
        "# テキストデータを前処理するための関数の用意\n",
        "\n",
        "import glob\n",
        "import pathlib\n",
        "import re\n",
        "\n",
        "remove_marks_regex = re.compile(\"[,\\.\\(\\)\\[\\]\\*:;]|<.*?>\")\n",
        "shift_marks_regex = re.compile(\"([?!])\")\n",
        "\n",
        "# 長い文字列をトークンIDのリストに変換する関数\n",
        "def text2ids(text, vocab_dict):\n",
        "  # !?以外の記号の削除\n",
        "  text = remove_marks_regex.sub(\"\", text)\n",
        "  # !?と単語の間にスペースを挿入\n",
        "  text = shift_marks_regex.sub(r\" \\l \", text)\n",
        "  tokens = text.split()\n",
        "  # ボキャブラリー含まれないトークンはID=0を割り当てる\n",
        "  return [vocab_dict.get(token, 0) for token in tokens]\n",
        "\n",
        "# IDのリストをint64のTensorに変換\n",
        "def list2tensor(token_idxes, max_len=100, padding=True):\n",
        "  # 各文章の分割語のトークンの数を制限\n",
        "  if len(token_idxes) > max_len:\n",
        "    token_idxes = token_idxes[:max_len]\n",
        "  n_tokens = len(token_idxes)\n",
        "  if padding:\n",
        "    # 数が足りない場合は末尾を0で埋める\n",
        "    token_idxes = token_idxes + [0]*(max_len - len(token_idxes))\n",
        "  return torch.tensor(token_idxes, dtype=torch.int64), n_tokens"
      ],
      "execution_count": 0,
      "outputs": []
    },
    {
      "cell_type": "code",
      "metadata": {
        "id": "JKEz5V6bj0rb",
        "colab_type": "code",
        "colab": {}
      },
      "source": [
        "# Datasetクラスの作成\n",
        "class IMDBDataset(Dataset):\n",
        "  def __init__(self, dir_path, train=True,\n",
        "               max_len=100, padding=True):\n",
        "    self.max_len = max_len\n",
        "    self.padding = padding\n",
        "\n",
        "    path = pathlib.Path(dir_path)\n",
        "    vocab_path = path.joinpath(\"imdb.vocab\")\n",
        "\n",
        "    # ボキャブラリファイルを読み込み、行ごとに分割\n",
        "    self.vocab_array = vocab_path.open().read().strip().splitlines()\n",
        "\n",
        "    # 単語をキーとし、値がIDのdictを作る\n",
        "    self.vocab_dict = dict((w, i+1) for (i, w) in enumerate(self.vocab_array))\n",
        "\n",
        "    if train:\n",
        "      target_path = path.joinpath(\"train\")\n",
        "\n",
        "    else:\n",
        "      target_path = path.joinpath(\"test\")\n",
        "\n",
        "    pos_files = sorted(glob.glob(str(target_path.joinpath(\"pos/*.txt\"))))\n",
        "    neg_files = sorted(glob.glob(str(target_path.joinpath(\"neg/*.txt\"))))\n",
        "\n",
        "    # posは1、negは0のlabelを付けて\n",
        "    # (file_path, label)のtupleのリストを作成\n",
        "    self.labeled_files = list(zip([0]*len(neg_files), neg_files)) + list(zip([1]*len(pos_files), pos_files))\n",
        "\n",
        "  @property\n",
        "  def vocab_size(self):\n",
        "    return len(self.vocab_array)\n",
        "\n",
        "  def __len__(self):\n",
        "    return len(self.labeled_files)\n",
        "\n",
        "  def __getitem__(self, idx):\n",
        "    label, f = self.labeled_files[idx]\n",
        "\n",
        "    # ファイルのテキストデータを読み取って小文字に変換\n",
        "    data = open(f).read().lower()\n",
        "\n",
        "    # テキストデータをIDのリストに変換\n",
        "    data = text2ids(data, self.vocab_dict)\n",
        "\n",
        "    # IDのリストをTensorに変換\n",
        "    data, n_tokens = list2tensor(data, self.max_len, self.padding)\n",
        "\n",
        "    return data, label, n_tokens\n"
      ],
      "execution_count": 0,
      "outputs": []
    },
    {
      "cell_type": "code",
      "metadata": {
        "id": "wVhwo3sruvrg",
        "colab_type": "code",
        "colab": {
          "base_uri": "https://localhost:8080/",
          "height": 34
        },
        "outputId": "d336e2a3-d7a3-479f-89c1-f50319465880"
      },
      "source": [
        "pwd"
      ],
      "execution_count": 19,
      "outputs": [
        {
          "output_type": "execute_result",
          "data": {
            "text/plain": [
              "'/content'"
            ]
          },
          "metadata": {
            "tags": []
          },
          "execution_count": 19
        }
      ]
    },
    {
      "cell_type": "code",
      "metadata": {
        "id": "8pE0w2IdtoBv",
        "colab_type": "code",
        "colab": {}
      },
      "source": [
        "# 訓練用とテスト用のDataLoaderの作成\n",
        "train_data = IMDBDataset(\"/content/aclImdb/\")\n",
        "test_data = IMDBDataset(\"/content/aclImdb/\", train=False)\n",
        "\n",
        "train_loader = DataLoader(train_data, batch_size=32,\n",
        "                          shuffle=True, num_workers=4)\n",
        "test_loader = DataLoader(test_data, batch_size=32,\n",
        "                          shuffle=False, num_workers=4)"
      ],
      "execution_count": 0,
      "outputs": []
    },
    {
      "cell_type": "code",
      "metadata": {
        "id": "_r_rlVVevTsO",
        "colab_type": "code",
        "colab": {}
      },
      "source": [
        "# ネットワークの定義と訓練\n",
        "# 入力XをEmbeddingでベクトルの時系列に変換して、これをRNNに入れて最後に出力が1次元の線形層につなげる\n",
        "\n",
        "class SequenceTaggingNet(nn.Module):\n",
        "  def __init__(self, num_embeddings,\n",
        "               embedding_dim=50,\n",
        "               hidden_size=50,\n",
        "               num_layers=1,\n",
        "               dropout=0.2):\n",
        "    super().__init__()\n",
        "    self.emb = nn.Embedding(num_embeddings, embedding_dim, padding_idx=0)\n",
        "    self.lstm = nn.LSTM(embedding_dim, hidden_size, num_layers, batch_first=True, dropout=dropout)\n",
        "    self.linear = nn.Linear(hidden_size, 1)\n",
        "\n",
        "  def forward(self, x, h0=None, l=None):\n",
        "    # IDをEmbeddingで多次元のベクトルに変換する\n",
        "    # xは(batch_size, step_size, embedding_size)\n",
        "    # -> (batch_size, step_size, hidden_dim)\n",
        "    x = self.emb(x)\n",
        "\n",
        "    # 初期状態h0とともにRNNにxを渡す\n",
        "    # xは(batch_size, step_size, embedding_dim)\n",
        "    # -> (batch_size, step_size, hidden_dim)\n",
        "    x, h = self.lstm(x, h0)\n",
        "\n",
        "    # 最後のステップのみ取り出す\n",
        "    # xは(batch_size, step_size, hidden_dim)\n",
        "    # -> (batch_size, 1)\n",
        "    if l is not None:\n",
        "      # 入力のもともとの長さがある場合はそれを使用する\n",
        "      x = x[list(range(len(x))), l-1, :]\n",
        "\n",
        "    else:\n",
        "      # なければ単純に最後を使用する\n",
        "      x = x[:, -1, :] \n",
        "\n",
        "    # 取り出した最後のステップを線形層に入れる\n",
        "    x = self.linear(x)\n",
        "\n",
        "    # 余分な次元を削除する\n",
        "    # (batch_size, 1) -> (batch_size, )\n",
        "    x = x.squeeze()\n",
        "    return x"
      ],
      "execution_count": 0,
      "outputs": []
    },
    {
      "cell_type": "code",
      "metadata": {
        "id": "a-aMUy8e2ckT",
        "colab_type": "code",
        "colab": {}
      },
      "source": [
        "# 訓練の作成\n",
        "\n",
        "def eval_net(net, data_loader, device=\"cpu\"):\n",
        "  net.eval()\n",
        "  ys = []\n",
        "  ypreds = []\n",
        "\n",
        "  for x, y, l in data_loader:\n",
        "    x = x.to(device)\n",
        "    y = y.to(device)\n",
        "    l = l.to(device)\n",
        "\n",
        "    with torch.no_grad():\n",
        "      y_pred = net(x, l=l)\n",
        "      y_pred = (y_pred > 0).long()\n",
        "      ys.append(y)\n",
        "      ypreds.append(y_pred)\n",
        "\n",
        "    ys = torch.cat(ys)\n",
        "    ypreds = torch.cat(ypreds)\n",
        "    acc = (ys == ypreds).float().sum() / len(ys)\n",
        "    return acc.item()"
      ],
      "execution_count": 0,
      "outputs": []
    },
    {
      "cell_type": "code",
      "metadata": {
        "id": "hNGpW9QY4g07",
        "colab_type": "code",
        "colab": {
          "base_uri": "https://localhost:8080/",
          "height": 357
        },
        "outputId": "292f453a-3887-498e-e600-f97231c6d8a5"
      },
      "source": [
        "# 評価の作成\n",
        "\n",
        "from statistics import mean\n",
        "\n",
        "# num_embeddingsには0を含めてtrain_data.vocab+1を入れる\n",
        "net = SequenceTaggingNet(train_data.vocab_size + 1, num_layers=2)\n",
        "net.to(\"cuda:0\")\n",
        "opt = optim.Adam(net.parameters())\n",
        "loss_f = nn.BCEWithLogitsLoss()\n",
        "\n",
        "for epoch in range(10):\n",
        "  losses = [] # 損失関数の初期化\n",
        "  net.train() # ニューラルネットの初期化\n",
        "\n",
        "  for x, y, l in tqdm.tqdm(train_loader):\n",
        "    # データをGPUに送る\n",
        "    x = x.to(\"cuda:0\")\n",
        "    y = y.to(\"cuda:0\")\n",
        "    l = l.to(\"cuda:0\")\n",
        "\n",
        "    y_pred = net(x, l=l) # 予測結果\n",
        "    loss = loss_f(y_pred, y.float()) # 損失関数の計算\n",
        "    net.zero_grad() # 前回のbackwardメソッドで計算された勾配の値を削除\n",
        "    loss.backward() # 微分の計算\n",
        "    opt.step() # 勾配を更新\n",
        "    losses.append(loss.item()) # 損失関数のappend\n",
        "  train_acc = eval_net(net, train_loader, \"cuda:0\") # 訓練における評価\n",
        "  val_acc = eval_net(net, test_loader, \"cuda:0\") # バリデーションにおける評価\n",
        "  print(epoch, mean(losses), train_acc, val_acc)"
      ],
      "execution_count": 33,
      "outputs": [
        {
          "output_type": "stream",
          "text": [
            "100%|██████████| 782/782 [00:16<00:00, 47.40it/s]\n",
            "  0%|          | 0/782 [00:00<?, ?it/s]"
          ],
          "name": "stderr"
        },
        {
          "output_type": "stream",
          "text": [
            "0 0.6893604791835141 0.53125 0.0\n"
          ],
          "name": "stdout"
        },
        {
          "output_type": "stream",
          "text": [
            "100%|██████████| 782/782 [00:16<00:00, 47.80it/s]\n",
            "  0%|          | 0/782 [00:00<?, ?it/s]"
          ],
          "name": "stderr"
        },
        {
          "output_type": "stream",
          "text": [
            "1 0.6694488896204688 0.78125 0.5625\n"
          ],
          "name": "stdout"
        },
        {
          "output_type": "stream",
          "text": [
            "100%|██████████| 782/782 [00:16<00:00, 53.97it/s]\n",
            "  0%|          | 0/782 [00:00<?, ?it/s]"
          ],
          "name": "stderr"
        },
        {
          "output_type": "stream",
          "text": [
            "2 0.5336281067651251 0.78125 0.59375\n"
          ],
          "name": "stdout"
        },
        {
          "output_type": "stream",
          "text": [
            "100%|██████████| 782/782 [00:16<00:00, 47.67it/s]\n",
            "  0%|          | 0/782 [00:00<?, ?it/s]"
          ],
          "name": "stderr"
        },
        {
          "output_type": "stream",
          "text": [
            "3 0.4034223910754599 0.90625 0.84375\n"
          ],
          "name": "stdout"
        },
        {
          "output_type": "stream",
          "text": [
            "100%|██████████| 782/782 [00:16<00:00, 47.65it/s]\n",
            "  0%|          | 0/782 [00:00<?, ?it/s]"
          ],
          "name": "stderr"
        },
        {
          "output_type": "stream",
          "text": [
            "4 0.32034806920515607 0.84375 0.8125\n"
          ],
          "name": "stdout"
        },
        {
          "output_type": "stream",
          "text": [
            "100%|██████████| 782/782 [00:16<00:00, 47.16it/s]\n",
            "  0%|          | 0/782 [00:00<?, ?it/s]"
          ],
          "name": "stderr"
        },
        {
          "output_type": "stream",
          "text": [
            "5 0.2555158994663173 0.875 0.71875\n"
          ],
          "name": "stdout"
        },
        {
          "output_type": "stream",
          "text": [
            "100%|██████████| 782/782 [00:16<00:00, 54.45it/s]\n",
            "  0%|          | 0/782 [00:00<?, ?it/s]"
          ],
          "name": "stderr"
        },
        {
          "output_type": "stream",
          "text": [
            "6 0.2005250816736037 0.9375 0.8125\n"
          ],
          "name": "stdout"
        },
        {
          "output_type": "stream",
          "text": [
            "100%|██████████| 782/782 [00:16<00:00, 48.07it/s]\n",
            "  0%|          | 0/782 [00:00<?, ?it/s]"
          ],
          "name": "stderr"
        },
        {
          "output_type": "stream",
          "text": [
            "7 0.15167732976610437 0.96875 0.75\n"
          ],
          "name": "stdout"
        },
        {
          "output_type": "stream",
          "text": [
            "100%|██████████| 782/782 [00:16<00:00, 47.93it/s]\n",
            "  0%|          | 0/782 [00:00<?, ?it/s]"
          ],
          "name": "stderr"
        },
        {
          "output_type": "stream",
          "text": [
            "8 0.11278490032024129 0.9375 0.71875\n"
          ],
          "name": "stdout"
        },
        {
          "output_type": "stream",
          "text": [
            "100%|██████████| 782/782 [00:16<00:00, 48.05it/s]\n"
          ],
          "name": "stderr"
        },
        {
          "output_type": "stream",
          "text": [
            "9 0.08585180637552915 1.0 0.78125\n"
          ],
          "name": "stdout"
        }
      ]
    },
    {
      "cell_type": "code",
      "metadata": {
        "id": "KC43fQDD7Bno",
        "colab_type": "code",
        "colab": {}
      },
      "source": [
        ""
      ],
      "execution_count": 0,
      "outputs": []
    }
  ]
}