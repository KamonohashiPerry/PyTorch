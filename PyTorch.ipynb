{
  "nbformat": 4,
  "nbformat_minor": 0,
  "metadata": {
    "colab": {
      "name": "PyTorch.ipynb",
      "provenance": [],
      "collapsed_sections": [],
      "include_colab_link": true
    },
    "kernelspec": {
      "name": "python3",
      "display_name": "Python 3"
    },
    "accelerator": "GPU"
  },
  "cells": [
    {
      "cell_type": "markdown",
      "metadata": {
        "id": "view-in-github",
        "colab_type": "text"
      },
      "source": [
        "<a href=\"https://colab.research.google.com/github/KamonohashiPerry/PyTorch/blob/master/PyTorch.ipynb\" target=\"_parent\"><img src=\"https://colab.research.google.com/assets/colab-badge.svg\" alt=\"Open In Colab\"/></a>"
      ]
    },
    {
      "cell_type": "markdown",
      "metadata": {
        "id": "QAOHHDYbEu2_",
        "colab_type": "text"
      },
      "source": [
        "# PyTorchのインストール"
      ]
    },
    {
      "cell_type": "code",
      "metadata": {
        "id": "TlpBf3IKDFa7",
        "colab_type": "code",
        "colab": {}
      },
      "source": [
        "# pip install http://download.pytorch.org/whl/cu80/torch-0.4.0-cp36-cp36m-linux_x86_64.whl"
      ],
      "execution_count": 0,
      "outputs": []
    },
    {
      "cell_type": "code",
      "metadata": {
        "id": "7WwXlb0YDmQy",
        "colab_type": "code",
        "colab": {}
      },
      "source": [
        "# pip install torchvision"
      ],
      "execution_count": 0,
      "outputs": []
    },
    {
      "cell_type": "code",
      "metadata": {
        "id": "fsyLenx3E0b1",
        "colab_type": "code",
        "colab": {}
      },
      "source": [
        "# pip install tqdm"
      ],
      "execution_count": 0,
      "outputs": []
    },
    {
      "cell_type": "markdown",
      "metadata": {
        "id": "PDudM7UfFbDV",
        "colab_type": "text"
      },
      "source": [
        "インストールできたかの確認"
      ]
    },
    {
      "cell_type": "code",
      "metadata": {
        "id": "Q78xEOX1FQbl",
        "colab_type": "code",
        "colab": {}
      },
      "source": [
        "import torch"
      ],
      "execution_count": 0,
      "outputs": []
    },
    {
      "cell_type": "code",
      "metadata": {
        "id": "8ge4WLbSFe2Z",
        "colab_type": "code",
        "colab": {
          "base_uri": "https://localhost:8080/",
          "height": 34
        },
        "outputId": "38ec29bf-b41f-405a-a135-14cc7074b8c4"
      },
      "source": [
        "torch.tensor([1, 2, 3]).to(\"cuda:0\")"
      ],
      "execution_count": 3,
      "outputs": [
        {
          "output_type": "execute_result",
          "data": {
            "text/plain": [
              "tensor([1, 2, 3], device='cuda:0')"
            ]
          },
          "metadata": {
            "tags": []
          },
          "execution_count": 3
        }
      ]
    },
    {
      "cell_type": "markdown",
      "metadata": {
        "id": "XZq-bBDkFuUy",
        "colab_type": "text"
      },
      "source": [
        "データのやりとり"
      ]
    },
    {
      "cell_type": "code",
      "metadata": {
        "id": "RNoVycV0FpcL",
        "colab_type": "code",
        "colab": {}
      },
      "source": [
        "# !wget http://vis-www.cs.umass.edu/lfw/lfw-deepfunneled.tgz"
      ],
      "execution_count": 0,
      "outputs": []
    },
    {
      "cell_type": "code",
      "metadata": {
        "id": "xlY1Gu-8GGUi",
        "colab_type": "code",
        "colab": {}
      },
      "source": [
        "# !tar xf lfw-deepfunneled.tgz"
      ],
      "execution_count": 0,
      "outputs": []
    },
    {
      "cell_type": "code",
      "metadata": {
        "id": "kVB50NwaGM-I",
        "colab_type": "code",
        "colab": {}
      },
      "source": [
        "# !mkdir lfw-deepfunneled/train"
      ],
      "execution_count": 0,
      "outputs": []
    },
    {
      "cell_type": "code",
      "metadata": {
        "id": "eoKOot30GdGS",
        "colab_type": "code",
        "colab": {}
      },
      "source": [
        "# cd lfw-deepfunneled"
      ],
      "execution_count": 0,
      "outputs": []
    },
    {
      "cell_type": "code",
      "metadata": {
        "id": "cM6KBWI4GU1r",
        "colab_type": "code",
        "colab": {}
      },
      "source": [
        "# !mv [A-W]* train"
      ],
      "execution_count": 0,
      "outputs": []
    },
    {
      "cell_type": "code",
      "metadata": {
        "id": "u0O0pfzUGQ-d",
        "colab_type": "code",
        "colab": {}
      },
      "source": [
        "# !mkdir test"
      ],
      "execution_count": 0,
      "outputs": []
    },
    {
      "cell_type": "code",
      "metadata": {
        "id": "it0YUbqOIJCt",
        "colab_type": "code",
        "colab": {}
      },
      "source": [
        "# pwd"
      ],
      "execution_count": 0,
      "outputs": []
    },
    {
      "cell_type": "code",
      "metadata": {
        "id": "RwGXocHPJKg0",
        "colab_type": "code",
        "colab": {}
      },
      "source": [
        "# !mv [X-Z]* test"
      ],
      "execution_count": 0,
      "outputs": []
    },
    {
      "cell_type": "code",
      "metadata": {
        "id": "VSw2TmJnJcJb",
        "colab_type": "code",
        "colab": {}
      },
      "source": [
        "# ls -l"
      ],
      "execution_count": 0,
      "outputs": []
    },
    {
      "cell_type": "markdown",
      "metadata": {
        "id": "DayBAFiiJ9CE",
        "colab_type": "text"
      },
      "source": [
        "ファイルのアップロード"
      ]
    },
    {
      "cell_type": "code",
      "metadata": {
        "id": "xr0Uvv4_JqID",
        "colab_type": "code",
        "colab": {
          "resources": {
            "http://localhost:8080/nbextensions/google.colab/files.js": {
              "data": "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",
              "ok": true,
              "headers": [
                [
                  "content-type",
                  "application/javascript"
                ]
              ],
              "status": 200,
              "status_text": ""
            }
          },
          "base_uri": "https://localhost:8080/",
          "height": 71
        },
        "outputId": "80d8daa6-17ca-4b71-d3f5-5c4cd46375eb"
      },
      "source": [
        "from google.colab import files\n",
        "\n",
        "# ダイアログが表示され、ローカルファイルを選択してアップロード\n",
        "uploaded = files.upload()"
      ],
      "execution_count": 47,
      "outputs": [
        {
          "output_type": "display_data",
          "data": {
            "text/html": [
              "\n",
              "     <input type=\"file\" id=\"files-bdeaac67-60f1-4943-b8e2-6854d8ac3465\" name=\"files[]\" multiple disabled />\n",
              "     <output id=\"result-bdeaac67-60f1-4943-b8e2-6854d8ac3465\">\n",
              "      Upload widget is only available when the cell has been executed in the\n",
              "      current browser session. Please rerun this cell to enable.\n",
              "      </output>\n",
              "      <script src=\"/nbextensions/google.colab/files.js\"></script> "
            ],
            "text/plain": [
              "<IPython.core.display.HTML object>"
            ]
          },
          "metadata": {
            "tags": []
          }
        },
        {
          "output_type": "stream",
          "text": [
            "Saving marimo.png to marimo.png\n"
          ],
          "name": "stdout"
        }
      ]
    },
    {
      "cell_type": "code",
      "metadata": {
        "id": "zS4w5g2fKDGn",
        "colab_type": "code",
        "colab": {}
      },
      "source": [
        "# ファイルのダウンロード\n",
        " files.download(\"result.txt\")"
      ],
      "execution_count": 0,
      "outputs": []
    },
    {
      "cell_type": "markdown",
      "metadata": {
        "id": "Cnq0MXzGLyOj",
        "colab_type": "text"
      },
      "source": [
        "あるいは、Google Driveのマウント"
      ]
    },
    {
      "cell_type": "code",
      "metadata": {
        "id": "2vIFslKIKggt",
        "colab_type": "code",
        "colab": {}
      },
      "source": [
        "!apt-get install -y -qq software-properties-common python-software-properties module-init-tools\n",
        "!add-apt-repository -y ppa:alessandro-strada/ppa 2>&1 > /dev/null\n",
        "!apt-get update -qq 2>&1 > /dev/null\n",
        "!apt-get -y install -qq google-drive-ocamlfuse fuse\n",
        "from google.colab import auth\n",
        "auth.authenticate_user()\n",
        "from oauth2client.client import GoogleCredentials\n",
        "creds = GoogleCredentials.get_application_default()\n",
        "import getpass\n",
        "!google-drive-ocamlfuse -headless -id={creds.client_id} -secret={creds.client_secret} < /dev/null 2>&1 | grep URL\n",
        "vcode = getpass.getpass()\n",
        "!echo {vcode} | google-drive-ocamlfuse -headless -id={creds.client_id} -secret={creds.client_secret}"
      ],
      "execution_count": 0,
      "outputs": []
    },
    {
      "cell_type": "code",
      "metadata": {
        "id": "j19ZZNGxL2qE",
        "colab_type": "code",
        "colab": {}
      },
      "source": [
        "# drive mean root directory of  google drive\n",
        "!mkdir -p drive\n",
        "!google-drive-ocamlfuse drive\n",
        "!ls drive/\"Colab Notebooks\"/PyTorch"
      ],
      "execution_count": 0,
      "outputs": []
    },
    {
      "cell_type": "code",
      "metadata": {
        "id": "EC7a-5vhL8XM",
        "colab_type": "code",
        "colab": {}
      },
      "source": [
        ""
      ],
      "execution_count": 0,
      "outputs": []
    },
    {
      "cell_type": "markdown",
      "metadata": {
        "id": "hovDqn4SNJHk",
        "colab_type": "text"
      },
      "source": [
        "## Chapter1\n",
        "### 生成と変換"
      ]
    },
    {
      "cell_type": "code",
      "metadata": {
        "id": "_8AOe_8tNM0X",
        "colab_type": "code",
        "colab": {
          "base_uri": "https://localhost:8080/",
          "height": 51
        },
        "outputId": "1025e649-1eda-40c2-e482-0dd830869e45"
      },
      "source": [
        "import numpy as np\n",
        "import torch\n",
        "\n",
        "# 入れ子のlistを渡して作成\n",
        "t = torch.tensor([[1, 2], [3, 4]])\n",
        "t"
      ],
      "execution_count": 51,
      "outputs": [
        {
          "output_type": "execute_result",
          "data": {
            "text/plain": [
              "tensor([[1, 2],\n",
              "        [3, 4]])"
            ]
          },
          "metadata": {
            "tags": []
          },
          "execution_count": 51
        }
      ]
    },
    {
      "cell_type": "code",
      "metadata": {
        "id": "KBxfJgDDNqXo",
        "colab_type": "code",
        "colab": {
          "base_uri": "https://localhost:8080/",
          "height": 51
        },
        "outputId": "c4c67136-2ec7-45d1-dee7-670744e0d1fd"
      },
      "source": [
        "# deviceを指定することでGPUにTensorを作成する\n",
        "t = torch.tensor([[1, 2], [3, 4]], device=\"cuda:0\")\n",
        "t"
      ],
      "execution_count": 52,
      "outputs": [
        {
          "output_type": "execute_result",
          "data": {
            "text/plain": [
              "tensor([[1, 2],\n",
              "        [3, 4]], device='cuda:0')"
            ]
          },
          "metadata": {
            "tags": []
          },
          "execution_count": 52
        }
      ]
    },
    {
      "cell_type": "code",
      "metadata": {
        "id": "-wh8u8kLNsxd",
        "colab_type": "code",
        "colab": {
          "base_uri": "https://localhost:8080/",
          "height": 51
        },
        "outputId": "81022ca6-4384-4f8f-bd31-ab141c367233"
      },
      "source": [
        "# dtypeを指定することで倍精度のTensorを作る\n",
        "t = torch.tensor([[1, 2], [3, 4]], dtype=torch.float64)\n",
        "t"
      ],
      "execution_count": 53,
      "outputs": [
        {
          "output_type": "execute_result",
          "data": {
            "text/plain": [
              "tensor([[1., 2.],\n",
              "        [3., 4.]], dtype=torch.float64)"
            ]
          },
          "metadata": {
            "tags": []
          },
          "execution_count": 53
        }
      ]
    },
    {
      "cell_type": "code",
      "metadata": {
        "id": "qSvnijvnOFhn",
        "colab_type": "code",
        "colab": {
          "base_uri": "https://localhost:8080/",
          "height": 34
        },
        "outputId": "84fc6dab-5c77-4831-9393-dd22baa2c2a8"
      },
      "source": [
        "# 0から9までの数値で初期化された1次元のTensor\n",
        "t = torch.arange(0, 10)\n",
        "t"
      ],
      "execution_count": 54,
      "outputs": [
        {
          "output_type": "execute_result",
          "data": {
            "text/plain": [
              "tensor([0, 1, 2, 3, 4, 5, 6, 7, 8, 9])"
            ]
          },
          "metadata": {
            "tags": []
          },
          "execution_count": 54
        }
      ]
    },
    {
      "cell_type": "code",
      "metadata": {
        "id": "K7v5-U06OWd1",
        "colab_type": "code",
        "colab": {}
      },
      "source": [
        "# 全ての値が0の100×10のTensorを作成し、toメソッドでGPUに転送する\n",
        "t = torch.zeros(100, 10).to(\"cuda:0\")\n",
        "t"
      ],
      "execution_count": 0,
      "outputs": []
    },
    {
      "cell_type": "code",
      "metadata": {
        "id": "z4OKbmt-Ooxs",
        "colab_type": "code",
        "colab": {}
      },
      "source": [
        "# 正規乱数で100×10のTensorを作成\n",
        "t = torch.randn(100, 10)\n",
        "t"
      ],
      "execution_count": 0,
      "outputs": []
    },
    {
      "cell_type": "code",
      "metadata": {
        "id": "HHARUOsQO0vq",
        "colab_type": "code",
        "colab": {
          "base_uri": "https://localhost:8080/",
          "height": 34
        },
        "outputId": "22c15557-da1f-4355-f659-9588eafb5153"
      },
      "source": [
        "# Tensorのshapeはsizeメソッドで取得可能\n",
        "t.size()"
      ],
      "execution_count": 57,
      "outputs": [
        {
          "output_type": "execute_result",
          "data": {
            "text/plain": [
              "torch.Size([100, 10])"
            ]
          },
          "metadata": {
            "tags": []
          },
          "execution_count": 57
        }
      ]
    },
    {
      "cell_type": "code",
      "metadata": {
        "id": "AHRO-SH4O_NM",
        "colab_type": "code",
        "colab": {
          "base_uri": "https://localhost:8080/",
          "height": 51
        },
        "outputId": "a94dc49c-abe9-4bc4-8e1a-f727d9ede890"
      },
      "source": [
        "# numpyメソッドを使用してndarrayに変換\n",
        "t = torch.tensor([[1, 2], [3, 4.]])\n",
        "x = t.numpy()\n",
        "x"
      ],
      "execution_count": 58,
      "outputs": [
        {
          "output_type": "execute_result",
          "data": {
            "text/plain": [
              "array([[1., 2.],\n",
              "       [3., 4.]], dtype=float32)"
            ]
          },
          "metadata": {
            "tags": []
          },
          "execution_count": 58
        }
      ]
    },
    {
      "cell_type": "code",
      "metadata": {
        "id": "4s-I5Cw7PQ_G",
        "colab_type": "code",
        "colab": {
          "base_uri": "https://localhost:8080/",
          "height": 51
        },
        "outputId": "495ff357-1dce-4ecd-ecbb-5a731ee00e42"
      },
      "source": [
        "# GPU上のTensorはcpuメソッドで、一度CPUのTensorに変換する\n",
        "t = torch.tensor([[1, 2], [3, 4.]], device=\"cuda:0\")\n",
        "x = t.to(\"cpu\").numpy()\n",
        "x"
      ],
      "execution_count": 59,
      "outputs": [
        {
          "output_type": "execute_result",
          "data": {
            "text/plain": [
              "array([[1., 2.],\n",
              "       [3., 4.]], dtype=float32)"
            ]
          },
          "metadata": {
            "tags": []
          },
          "execution_count": 59
        }
      ]
    },
    {
      "cell_type": "markdown",
      "metadata": {
        "id": "qmO2B4riRabV",
        "colab_type": "text"
      },
      "source": [
        "### インデクシング"
      ]
    },
    {
      "cell_type": "code",
      "metadata": {
        "id": "pUgCLzItPnyJ",
        "colab_type": "code",
        "colab": {
          "base_uri": "https://localhost:8080/",
          "height": 51
        },
        "outputId": "11e7ab4a-bc64-433e-8d50-52aa19d4106b"
      },
      "source": [
        "t = torch.tensor([[1, 2, 3], [4, 5, 6.]])\n",
        "t"
      ],
      "execution_count": 62,
      "outputs": [
        {
          "output_type": "execute_result",
          "data": {
            "text/plain": [
              "tensor([[1., 2., 3.],\n",
              "        [4., 5., 6.]])"
            ]
          },
          "metadata": {
            "tags": []
          },
          "execution_count": 62
        }
      ]
    },
    {
      "cell_type": "code",
      "metadata": {
        "id": "3lIj3x_gQHdY",
        "colab_type": "code",
        "colab": {
          "base_uri": "https://localhost:8080/",
          "height": 34
        },
        "outputId": "ac64be99-0cad-4f2e-caef-dda34ac57373"
      },
      "source": [
        "# スカラーの添字で指定\n",
        "t[0, 2]"
      ],
      "execution_count": 63,
      "outputs": [
        {
          "output_type": "execute_result",
          "data": {
            "text/plain": [
              "tensor(3.)"
            ]
          },
          "metadata": {
            "tags": []
          },
          "execution_count": 63
        }
      ]
    },
    {
      "cell_type": "code",
      "metadata": {
        "id": "ykx_f_l-P9s7",
        "colab_type": "code",
        "colab": {
          "base_uri": "https://localhost:8080/",
          "height": 51
        },
        "outputId": "bdc58e0b-8252-41e3-d2c5-6ac79d9fcc8e"
      },
      "source": [
        "# スライスで指定\n",
        "t[:, :2]"
      ],
      "execution_count": 64,
      "outputs": [
        {
          "output_type": "execute_result",
          "data": {
            "text/plain": [
              "tensor([[1., 2.],\n",
              "        [4., 5.]])"
            ]
          },
          "metadata": {
            "tags": []
          },
          "execution_count": 64
        }
      ]
    },
    {
      "cell_type": "code",
      "metadata": {
        "id": "joOc0xZmQD7p",
        "colab_type": "code",
        "colab": {
          "base_uri": "https://localhost:8080/",
          "height": 51
        },
        "outputId": "71af0621-b613-4813-c5a1-24b8d2818366"
      },
      "source": [
        "# 添字のリストで指定\n",
        "t[:, [1, 2]]"
      ],
      "execution_count": 65,
      "outputs": [
        {
          "output_type": "execute_result",
          "data": {
            "text/plain": [
              "tensor([[2., 3.],\n",
              "        [5., 6.]])"
            ]
          },
          "metadata": {
            "tags": []
          },
          "execution_count": 65
        }
      ]
    },
    {
      "cell_type": "code",
      "metadata": {
        "id": "qzCcCnJsQWs6",
        "colab_type": "code",
        "colab": {
          "base_uri": "https://localhost:8080/",
          "height": 34
        },
        "outputId": "f544d80b-c70a-4163-b300-29a117527674"
      },
      "source": [
        "# マスク配列を使用して3より大きい部分のみ選択\n",
        "t[t > 3]"
      ],
      "execution_count": 66,
      "outputs": [
        {
          "output_type": "execute_result",
          "data": {
            "text/plain": [
              "tensor([4., 5., 6.])"
            ]
          },
          "metadata": {
            "tags": []
          },
          "execution_count": 66
        }
      ]
    },
    {
      "cell_type": "code",
      "metadata": {
        "id": "469Oy5EqQd0S",
        "colab_type": "code",
        "colab": {
          "base_uri": "https://localhost:8080/",
          "height": 51
        },
        "outputId": "f8aff129-e94f-4622-e57d-1014abadf8b2"
      },
      "source": [
        "# [0, 1]要素を100にする\n",
        "t[0, 1] = 100\n",
        "t"
      ],
      "execution_count": 68,
      "outputs": [
        {
          "output_type": "execute_result",
          "data": {
            "text/plain": [
              "tensor([[  1., 100.,   3.],\n",
              "        [  4.,   5.,   6.]])"
            ]
          },
          "metadata": {
            "tags": []
          },
          "execution_count": 68
        }
      ]
    },
    {
      "cell_type": "code",
      "metadata": {
        "id": "B67GmowBQq5k",
        "colab_type": "code",
        "colab": {
          "base_uri": "https://localhost:8080/",
          "height": 51
        },
        "outputId": "9c3fe07e-dedd-4cb5-c537-7e2d8b8ca62e"
      },
      "source": [
        "# スライスを使用した一括代入\n",
        "t[:,1] = 200\n",
        "t"
      ],
      "execution_count": 69,
      "outputs": [
        {
          "output_type": "execute_result",
          "data": {
            "text/plain": [
              "tensor([[  1., 200.,   3.],\n",
              "        [  4., 200.,   6.]])"
            ]
          },
          "metadata": {
            "tags": []
          },
          "execution_count": 69
        }
      ]
    },
    {
      "cell_type": "code",
      "metadata": {
        "id": "CeWb4YuYQ2GD",
        "colab_type": "code",
        "colab": {
          "base_uri": "https://localhost:8080/",
          "height": 51
        },
        "outputId": "b292b4fd-5dc8-4121-872e-77c1972df6e4"
      },
      "source": [
        "# マスク配列を使用して特定条件の要素のみ置換\n",
        "t[t > 10] = 20\n",
        "t"
      ],
      "execution_count": 70,
      "outputs": [
        {
          "output_type": "execute_result",
          "data": {
            "text/plain": [
              "tensor([[ 1., 20.,  3.],\n",
              "        [ 4., 20.,  6.]])"
            ]
          },
          "metadata": {
            "tags": []
          },
          "execution_count": 70
        }
      ]
    },
    {
      "cell_type": "markdown",
      "metadata": {
        "id": "TSoMVGmlRUqY",
        "colab_type": "text"
      },
      "source": [
        "### Tensorの演算"
      ]
    },
    {
      "cell_type": "code",
      "metadata": {
        "id": "7VDTF6xUQ9-Z",
        "colab_type": "code",
        "colab": {}
      },
      "source": [
        "# 長さ3のベクトル\n",
        "v = torch.tensor([1, 2, 3.])\n",
        "w = torch.tensor([0, 10, 20.])\n",
        "\n",
        "# 2×3の行列\n",
        "m = torch.tensor([[0, 1, 2], [100, 200, 300.]])"
      ],
      "execution_count": 0,
      "outputs": []
    },
    {
      "cell_type": "code",
      "metadata": {
        "id": "-yC7yTgFSJHC",
        "colab_type": "code",
        "colab": {
          "base_uri": "https://localhost:8080/",
          "height": 34
        },
        "outputId": "632281c1-11c1-466a-ffee-7e71e323bfcb"
      },
      "source": [
        "# ベクトルとスカラーの足し算\n",
        "v2 = v + 10\n",
        "v2"
      ],
      "execution_count": 72,
      "outputs": [
        {
          "output_type": "execute_result",
          "data": {
            "text/plain": [
              "tensor([11., 12., 13.])"
            ]
          },
          "metadata": {
            "tags": []
          },
          "execution_count": 72
        }
      ]
    },
    {
      "cell_type": "code",
      "metadata": {
        "id": "Ul85SWjiSOal",
        "colab_type": "code",
        "colab": {
          "base_uri": "https://localhost:8080/",
          "height": 34
        },
        "outputId": "50de22b7-93c6-4e9d-dbf6-bd7932394f58"
      },
      "source": [
        "# 累乗\n",
        "v2 = v **2\n",
        "v2"
      ],
      "execution_count": 73,
      "outputs": [
        {
          "output_type": "execute_result",
          "data": {
            "text/plain": [
              "tensor([1., 4., 9.])"
            ]
          },
          "metadata": {
            "tags": []
          },
          "execution_count": 73
        }
      ]
    },
    {
      "cell_type": "code",
      "metadata": {
        "id": "NdhiXSPiSSvp",
        "colab_type": "code",
        "colab": {
          "base_uri": "https://localhost:8080/",
          "height": 34
        },
        "outputId": "258a2e53-391c-4601-b723-c0a101d4d7b5"
      },
      "source": [
        "# 同じ長さのベクトル同士の引き算\n",
        "z = v -w\n",
        "z"
      ],
      "execution_count": 74,
      "outputs": [
        {
          "output_type": "execute_result",
          "data": {
            "text/plain": [
              "tensor([  1.,  -8., -17.])"
            ]
          },
          "metadata": {
            "tags": []
          },
          "execution_count": 74
        }
      ]
    },
    {
      "cell_type": "code",
      "metadata": {
        "id": "LSMp1-qcSaFM",
        "colab_type": "code",
        "colab": {
          "base_uri": "https://localhost:8080/",
          "height": 34
        },
        "outputId": "c9c6e2a0-c66e-4ce7-8c0f-efc5889591ec"
      },
      "source": [
        "# 複数の組み合わせ\n",
        "u = 2*v - w/10 + 6.0\n",
        "u"
      ],
      "execution_count": 75,
      "outputs": [
        {
          "output_type": "execute_result",
          "data": {
            "text/plain": [
              "tensor([ 8.,  9., 10.])"
            ]
          },
          "metadata": {
            "tags": []
          },
          "execution_count": 75
        }
      ]
    },
    {
      "cell_type": "code",
      "metadata": {
        "id": "_Bp2tioDSjTC",
        "colab_type": "code",
        "colab": {
          "base_uri": "https://localhost:8080/",
          "height": 51
        },
        "outputId": "eefaf1f3-08b5-4b2b-e9cb-a050e5054cff"
      },
      "source": [
        "# 行列とスカラー\n",
        "m2 = m*2.0\n",
        "m2"
      ],
      "execution_count": 76,
      "outputs": [
        {
          "output_type": "execute_result",
          "data": {
            "text/plain": [
              "tensor([[  0.,   2.,   4.],\n",
              "        [200., 400., 600.]])"
            ]
          },
          "metadata": {
            "tags": []
          },
          "execution_count": 76
        }
      ]
    },
    {
      "cell_type": "code",
      "metadata": {
        "id": "nhBOUbblSoTG",
        "colab_type": "code",
        "colab": {
          "base_uri": "https://localhost:8080/",
          "height": 51
        },
        "outputId": "ee2347f7-2cec-4914-b925-aeee34ed2c50"
      },
      "source": [
        "# 行列とベクトル(2,3)行列と(3,)のベクトルなのでブロードキャストが働く\n",
        "m3 = m + v\n",
        "m3"
      ],
      "execution_count": 77,
      "outputs": [
        {
          "output_type": "execute_result",
          "data": {
            "text/plain": [
              "tensor([[  1.,   3.,   5.],\n",
              "        [101., 202., 303.]])"
            ]
          },
          "metadata": {
            "tags": []
          },
          "execution_count": 77
        }
      ]
    },
    {
      "cell_type": "code",
      "metadata": {
        "id": "7CToNnx3S6P4",
        "colab_type": "code",
        "colab": {
          "base_uri": "https://localhost:8080/",
          "height": 51
        },
        "outputId": "8474e7b9-bd47-44cd-f11b-bc62b30b78ec"
      },
      "source": [
        "# 行列同士\n",
        "m4 = m + m\n",
        "m4"
      ],
      "execution_count": 79,
      "outputs": [
        {
          "output_type": "execute_result",
          "data": {
            "text/plain": [
              "tensor([[  0.,   2.,   4.],\n",
              "        [200., 400., 600.]])"
            ]
          },
          "metadata": {
            "tags": []
          },
          "execution_count": 79
        }
      ]
    },
    {
      "cell_type": "code",
      "metadata": {
        "id": "zK3jihC3S-nK",
        "colab_type": "code",
        "colab": {}
      },
      "source": [
        "# 100×10のテストデータを用意\n",
        "X = torch.randn(100, 10)\n",
        "X"
      ],
      "execution_count": 0,
      "outputs": []
    },
    {
      "cell_type": "code",
      "metadata": {
        "id": "bVyRc2z_TNTj",
        "colab_type": "code",
        "colab": {}
      },
      "source": [
        "# 数学関数を含めた数式\n",
        "y = X * 2 + torch.abs(X)\n",
        "y"
      ],
      "execution_count": 0,
      "outputs": []
    },
    {
      "cell_type": "code",
      "metadata": {
        "id": "tH9qLWK0TVjE",
        "colab_type": "code",
        "colab": {
          "base_uri": "https://localhost:8080/",
          "height": 34
        },
        "outputId": "85f8aa0b-9d1a-4a02-ae81-d04e21059e53"
      },
      "source": [
        "# 平均値を求める\n",
        "m = torch.mean(X)\n",
        "m"
      ],
      "execution_count": 82,
      "outputs": [
        {
          "output_type": "execute_result",
          "data": {
            "text/plain": [
              "tensor(0.0036)"
            ]
          },
          "metadata": {
            "tags": []
          },
          "execution_count": 82
        }
      ]
    },
    {
      "cell_type": "code",
      "metadata": {
        "id": "aQRqgpETTgOJ",
        "colab_type": "code",
        "colab": {
          "base_uri": "https://localhost:8080/",
          "height": 34
        },
        "outputId": "fb63b4a1-ff24-4f6a-c516-a5ab1c62366a"
      },
      "source": [
        "# 関数ではなくメソッドとして利用\n",
        "m = X.mean()\n",
        "m"
      ],
      "execution_count": 83,
      "outputs": [
        {
          "output_type": "execute_result",
          "data": {
            "text/plain": [
              "tensor(0.0036)"
            ]
          },
          "metadata": {
            "tags": []
          },
          "execution_count": 83
        }
      ]
    },
    {
      "cell_type": "code",
      "metadata": {
        "id": "wL9tUq8eTnPj",
        "colab_type": "code",
        "colab": {
          "base_uri": "https://localhost:8080/",
          "height": 34
        },
        "outputId": "5b95f94a-a341-43f2-e0fc-da1147dec8f2"
      },
      "source": [
        "# 集計結果は0次元のTensorでitemメソッドを使用して、値を取り出すことができる\n",
        "m_value = m.item()\n",
        "m_value"
      ],
      "execution_count": 84,
      "outputs": [
        {
          "output_type": "execute_result",
          "data": {
            "text/plain": [
              "0.0036013589706271887"
            ]
          },
          "metadata": {
            "tags": []
          },
          "execution_count": 84
        }
      ]
    },
    {
      "cell_type": "code",
      "metadata": {
        "id": "qYPcALXXUhnG",
        "colab_type": "code",
        "colab": {
          "base_uri": "https://localhost:8080/",
          "height": 51
        },
        "outputId": "ddf2ad25-f15d-4cb9-a139-14209f0288cb"
      },
      "source": [
        "# 集計は次元を指定できる。行方向に集計して列ごとに平均値を計算している\n",
        "m2 = X.mean(0)\n",
        "m2"
      ],
      "execution_count": 85,
      "outputs": [
        {
          "output_type": "execute_result",
          "data": {
            "text/plain": [
              "tensor([ 0.0083, -0.0236, -0.0680,  0.0284,  0.1196, -0.0445, -0.0494,  0.0321,\n",
              "        -0.0242,  0.0572])"
            ]
          },
          "metadata": {
            "tags": []
          },
          "execution_count": 85
        }
      ]
    },
    {
      "cell_type": "code",
      "metadata": {
        "id": "XeCOUR5MU9Y1",
        "colab_type": "code",
        "colab": {
          "base_uri": "https://localhost:8080/",
          "height": 51
        },
        "outputId": "c4d2a5ed-752e-47ee-9d99-ba965c5e3d2d"
      },
      "source": [
        "x1 = torch.tensor([[1, 2], [3, 4.]])\n",
        "x1"
      ],
      "execution_count": 86,
      "outputs": [
        {
          "output_type": "execute_result",
          "data": {
            "text/plain": [
              "tensor([[1., 2.],\n",
              "        [3., 4.]])"
            ]
          },
          "metadata": {
            "tags": []
          },
          "execution_count": 86
        }
      ]
    },
    {
      "cell_type": "code",
      "metadata": {
        "id": "i4u_OmWZVDWW",
        "colab_type": "code",
        "colab": {
          "base_uri": "https://localhost:8080/",
          "height": 51
        },
        "outputId": "476f1682-6a51-41db-8d34-528c5a3b92f0"
      },
      "source": [
        "x2 = torch.tensor([[10, 20, 30], [40, 50, 60.]])\n",
        "x2"
      ],
      "execution_count": 87,
      "outputs": [
        {
          "output_type": "execute_result",
          "data": {
            "text/plain": [
              "tensor([[10., 20., 30.],\n",
              "        [40., 50., 60.]])"
            ]
          },
          "metadata": {
            "tags": []
          },
          "execution_count": 87
        }
      ]
    },
    {
      "cell_type": "code",
      "metadata": {
        "id": "MH4FNoaCVzbI",
        "colab_type": "code",
        "colab": {
          "base_uri": "https://localhost:8080/",
          "height": 85
        },
        "outputId": "1bb532d5-d8fc-4ff1-8934-52fb8d47eb67"
      },
      "source": [
        "# 2×2を4×1に見せる\n",
        "x1.view(4, 1)"
      ],
      "execution_count": 88,
      "outputs": [
        {
          "output_type": "execute_result",
          "data": {
            "text/plain": [
              "tensor([[1.],\n",
              "        [2.],\n",
              "        [3.],\n",
              "        [4.]])"
            ]
          },
          "metadata": {
            "tags": []
          },
          "execution_count": 88
        }
      ]
    },
    {
      "cell_type": "code",
      "metadata": {
        "id": "MN81_ORWWCT3",
        "colab_type": "code",
        "colab": {
          "base_uri": "https://localhost:8080/",
          "height": 34
        },
        "outputId": "1e8adf75-2b09-417d-f113-d793cdf50d32"
      },
      "source": [
        "# -1は残りの次元を表し、一度だけ使用できる。以下の例では-1とすると自動的に4になる。\n",
        "x1.view(1, -1)"
      ],
      "execution_count": 89,
      "outputs": [
        {
          "output_type": "execute_result",
          "data": {
            "text/plain": [
              "tensor([[1., 2., 3., 4.]])"
            ]
          },
          "metadata": {
            "tags": []
          },
          "execution_count": 89
        }
      ]
    },
    {
      "cell_type": "code",
      "metadata": {
        "id": "TAUaXaKWWbff",
        "colab_type": "code",
        "colab": {
          "base_uri": "https://localhost:8080/",
          "height": 68
        },
        "outputId": "cf8ebd21-1f00-4f46-a013-8a5dbdec6348"
      },
      "source": [
        "# 2×3を転置して3×2にする\n",
        "x2.t()"
      ],
      "execution_count": 90,
      "outputs": [
        {
          "output_type": "execute_result",
          "data": {
            "text/plain": [
              "tensor([[10., 40.],\n",
              "        [20., 50.],\n",
              "        [30., 60.]])"
            ]
          },
          "metadata": {
            "tags": []
          },
          "execution_count": 90
        }
      ]
    },
    {
      "cell_type": "code",
      "metadata": {
        "id": "EUmmtVGyW5OT",
        "colab_type": "code",
        "colab": {
          "base_uri": "https://localhost:8080/",
          "height": 51
        },
        "outputId": "8ddd0b99-e114-48e8-a1d3-b3674aa30a4c"
      },
      "source": [
        "# dim=1に対して結合することで2×5のTensorを作る\n",
        "torch.cat([x1, x2], dim=1)"
      ],
      "execution_count": 91,
      "outputs": [
        {
          "output_type": "execute_result",
          "data": {
            "text/plain": [
              "tensor([[ 1.,  2., 10., 20., 30.],\n",
              "        [ 3.,  4., 40., 50., 60.]])"
            ]
          },
          "metadata": {
            "tags": []
          },
          "execution_count": 91
        }
      ]
    },
    {
      "cell_type": "code",
      "metadata": {
        "id": "R1UDWXjTWbtv",
        "colab_type": "code",
        "colab": {}
      },
      "source": [
        "# HWCをCHWに変換、64×32×3のデータが100個\n",
        "hwc_img_data = torch.rand(100, 64, 32, 3)\n",
        "chw_img_data = hwc_img_data.transpose(1, 2).transpose(1, 3)"
      ],
      "execution_count": 0,
      "outputs": []
    },
    {
      "cell_type": "code",
      "metadata": {
        "id": "iGqJqVPLWb6e",
        "colab_type": "code",
        "colab": {}
      },
      "source": [
        "m = torch.randn(100, 10)\n",
        "v = torch.randn(10)"
      ],
      "execution_count": 0,
      "outputs": []
    },
    {
      "cell_type": "code",
      "metadata": {
        "id": "wfwswyP-WYsA",
        "colab_type": "code",
        "colab": {
          "base_uri": "https://localhost:8080/",
          "height": 34
        },
        "outputId": "05730185-7bb1-4556-cce3-dd7bd63cf37b"
      },
      "source": [
        "# 内積\n",
        "d = torch.dot(v, v)\n",
        "d"
      ],
      "execution_count": 97,
      "outputs": [
        {
          "output_type": "execute_result",
          "data": {
            "text/plain": [
              "tensor(17.4666)"
            ]
          },
          "metadata": {
            "tags": []
          },
          "execution_count": 97
        }
      ]
    },
    {
      "cell_type": "code",
      "metadata": {
        "id": "gKumDxx9Ys2t",
        "colab_type": "code",
        "colab": {
          "base_uri": "https://localhost:8080/",
          "height": 357
        },
        "outputId": "a63ccecc-a9d9-4060-82d5-ae0a9b93ff73"
      },
      "source": [
        "# 100×10の行列と長さ10のベクトルとの積\n",
        "v2 = torch.mv(m, v)\n",
        "v2"
      ],
      "execution_count": 98,
      "outputs": [
        {
          "output_type": "execute_result",
          "data": {
            "text/plain": [
              "tensor([-4.1080e+00,  5.3765e-01,  5.7592e+00, -1.6794e+00,  2.2439e+00,\n",
              "         8.3089e+00, -7.4586e-01, -5.8227e+00, -1.0849e-01, -8.1938e+00,\n",
              "         3.9044e+00,  9.4531e+00, -3.1840e-01, -1.1309e+00,  2.3417e-02,\n",
              "        -2.5013e+00,  6.8780e+00, -3.5271e+00, -1.7255e+00,  2.5360e+00,\n",
              "        -3.0046e-01, -2.9452e+00,  2.8258e+00, -1.2579e+00, -4.0532e-02,\n",
              "         2.0794e+00,  9.4635e+00, -1.3758e+00, -2.6648e+00, -5.3184e+00,\n",
              "        -5.0640e-01,  1.8866e+00,  3.2948e+00,  3.9837e+00,  5.0172e+00,\n",
              "         2.5829e-01,  1.5913e+00, -1.0546e-01, -1.2097e+00,  1.0413e+00,\n",
              "         4.8595e+00, -1.3399e-01, -1.1639e+00,  1.0490e+00, -9.1263e-01,\n",
              "         1.1411e+01,  5.9109e+00, -9.5108e-01,  2.0456e+00,  3.3997e+00,\n",
              "         9.1413e-01, -8.1674e-01,  2.2282e+00,  6.7287e-01,  9.0305e-03,\n",
              "         5.2423e+00,  5.3973e+00, -7.0525e-01, -5.9080e+00, -1.7301e+00,\n",
              "         5.3531e+00, -3.1836e-01, -4.7825e+00,  3.7610e+00,  5.5606e+00,\n",
              "         1.6307e+00, -1.2596e+00, -1.2388e+00, -9.1797e-01, -2.6488e+00,\n",
              "         5.7812e+00, -9.4701e+00, -4.9605e-01,  6.5832e+00, -3.0453e+00,\n",
              "        -1.6649e+00,  1.9148e+00, -7.1955e+00,  2.8415e+00,  5.3200e+00,\n",
              "        -6.2601e+00, -3.4942e+00, -7.1806e+00,  2.9926e+00,  1.1447e+00,\n",
              "         2.5009e+00,  1.1571e+00, -6.4710e+00, -3.7044e+00, -3.0664e+00,\n",
              "        -4.5263e+00,  4.0377e+00, -6.3577e+00, -4.3612e+00,  3.4597e+00,\n",
              "        -2.0770e+00, -2.7074e+00, -7.6530e-01, -5.8069e+00,  1.1499e+00])"
            ]
          },
          "metadata": {
            "tags": []
          },
          "execution_count": 98
        }
      ]
    },
    {
      "cell_type": "code",
      "metadata": {
        "id": "nL12A8bfY4Kp",
        "colab_type": "code",
        "colab": {
          "base_uri": "https://localhost:8080/",
          "height": 357
        },
        "outputId": "6a270ef1-ad48-4d24-dcde-435177442258"
      },
      "source": [
        "# 行列積\n",
        "m2 = torch.mm(m.t(), m)\n",
        "m2"
      ],
      "execution_count": 99,
      "outputs": [
        {
          "output_type": "execute_result",
          "data": {
            "text/plain": [
              "tensor([[ 88.6999,  16.8399,  -1.7409,  -8.8934,   1.0312,  -7.5898,   3.7423,\n",
              "         -13.0312,   5.2649,   2.2321],\n",
              "        [ 16.8399,  94.9152, -13.7689,   3.0353, -13.3565,  -6.4321,   7.5703,\n",
              "         -12.7566,   8.0555,   3.1600],\n",
              "        [ -1.7409, -13.7689, 102.0199,  16.1736, -16.3016,   1.1649,  -4.8343,\n",
              "           5.2625,   2.4661,   5.6831],\n",
              "        [ -8.8934,   3.0353,  16.1736,  73.5954, -19.8169,   5.5297,  16.8452,\n",
              "          -5.4883,  -4.7374,  -4.7303],\n",
              "        [  1.0312, -13.3565, -16.3016, -19.8169, 110.5415,   2.0283,  -1.9022,\n",
              "          -4.1909, -16.5033,  -7.1431],\n",
              "        [ -7.5898,  -6.4321,   1.1649,   5.5297,   2.0283, 104.1705,  -3.9745,\n",
              "           6.2859,  -9.4617,  -9.2764],\n",
              "        [  3.7423,   7.5703,  -4.8343,  16.8452,  -1.9022,  -3.9745, 123.3382,\n",
              "          -7.1959,   7.9372,   1.0088],\n",
              "        [-13.0312, -12.7566,   5.2625,  -5.4883,  -4.1909,   6.2859,  -7.1959,\n",
              "          91.2110,   3.5681,  14.1793],\n",
              "        [  5.2649,   8.0555,   2.4661,  -4.7374, -16.5033,  -9.4617,   7.9372,\n",
              "           3.5681,  80.1216,  -1.1102],\n",
              "        [  2.2321,   3.1600,   5.6831,  -4.7303,  -7.1431,  -9.2764,   1.0088,\n",
              "          14.1793,  -1.1102,  81.5213]])"
            ]
          },
          "metadata": {
            "tags": []
          },
          "execution_count": 99
        }
      ]
    },
    {
      "cell_type": "code",
      "metadata": {
        "id": "dIHYDFV4Y58I",
        "colab_type": "code",
        "colab": {}
      },
      "source": [
        "# 特異値分解\n",
        "u, s, v = torch.svd(m)"
      ],
      "execution_count": 0,
      "outputs": []
    },
    {
      "cell_type": "code",
      "metadata": {
        "id": "zo0wEAUnZQ39",
        "colab_type": "code",
        "colab": {
          "base_uri": "https://localhost:8080/",
          "height": 34
        },
        "outputId": "b9197e10-e0a8-446d-dfc1-8e6a87854f43"
      },
      "source": [
        "u.shape"
      ],
      "execution_count": 102,
      "outputs": [
        {
          "output_type": "execute_result",
          "data": {
            "text/plain": [
              "torch.Size([100, 10])"
            ]
          },
          "metadata": {
            "tags": []
          },
          "execution_count": 102
        }
      ]
    },
    {
      "cell_type": "code",
      "metadata": {
        "id": "-cGQrBUrZUlK",
        "colab_type": "code",
        "colab": {
          "base_uri": "https://localhost:8080/",
          "height": 34
        },
        "outputId": "d432e352-2dad-414c-e72e-0c45e2686d71"
      },
      "source": [
        "s.shape"
      ],
      "execution_count": 103,
      "outputs": [
        {
          "output_type": "execute_result",
          "data": {
            "text/plain": [
              "torch.Size([10])"
            ]
          },
          "metadata": {
            "tags": []
          },
          "execution_count": 103
        }
      ]
    },
    {
      "cell_type": "code",
      "metadata": {
        "id": "Qht7LD6YZYgJ",
        "colab_type": "code",
        "colab": {
          "base_uri": "https://localhost:8080/",
          "height": 34
        },
        "outputId": "cd2babff-4785-4b2b-e0ef-62ed09ba98ae"
      },
      "source": [
        "v.shape"
      ],
      "execution_count": 104,
      "outputs": [
        {
          "output_type": "execute_result",
          "data": {
            "text/plain": [
              "torch.Size([10, 10])"
            ]
          },
          "metadata": {
            "tags": []
          },
          "execution_count": 104
        }
      ]
    },
    {
      "cell_type": "markdown",
      "metadata": {
        "id": "aG_CHdQQZlV7",
        "colab_type": "text"
      },
      "source": [
        "### Tensorと自動微分"
      ]
    },
    {
      "cell_type": "code",
      "metadata": {
        "id": "Odu3Rl2pZZly",
        "colab_type": "code",
        "colab": {}
      },
      "source": [
        "x = torch.randn(100, 3)\n",
        "\n",
        "# 微分の変数として扱う場合はrequires_gradフラグをTrueにする\n",
        "a = torch.tensor([1, 2, 3.], requires_grad=True)"
      ],
      "execution_count": 0,
      "outputs": []
    },
    {
      "cell_type": "code",
      "metadata": {
        "id": "JlPH7v4OaRLr",
        "colab_type": "code",
        "colab": {
          "base_uri": "https://localhost:8080/",
          "height": 238
        },
        "outputId": "c2d52b0e-5e1c-4d29-9669-9de2b1c024e2"
      },
      "source": [
        "# 計算することで自動的に計算グラフが構築されていく\n",
        "y = torch.mv(x, a)\n",
        "y"
      ],
      "execution_count": 110,
      "outputs": [
        {
          "output_type": "execute_result",
          "data": {
            "text/plain": [
              "tensor([ 7.9341, -1.3792,  6.6535, -5.6779,  4.9843, -4.0705, -4.3138,  0.2047,\n",
              "        -2.6373,  5.8026,  1.1865, -2.9149,  3.0847, -2.3475,  0.0153, -4.1135,\n",
              "        -4.8194,  0.4603, -4.4507,  0.9047,  2.7670,  5.4219,  7.1426,  2.2130,\n",
              "         0.2147, -0.6748, -6.2929,  1.1356,  2.5060, -3.1605, -1.1050,  2.6581,\n",
              "        -1.1224,  0.9456, -2.8387,  3.4650,  6.4997,  3.9475,  1.9249, -0.8462,\n",
              "        -3.1316, -0.2826,  0.6069, -0.6368, -4.5541, -0.5465,  0.7037, -5.7507,\n",
              "         4.1582, -1.2311, -1.7590,  1.3672, -3.9603,  5.2785, -0.7253, -6.4611,\n",
              "        -2.5383, -5.1378,  2.8117, -0.5625,  0.7856, -6.9797,  3.2073,  3.0460,\n",
              "        -0.4506,  0.6130,  0.2186,  0.9219,  6.4271,  1.4675,  4.2728,  2.0680,\n",
              "         4.3799,  3.5207,  0.7484,  6.9379,  0.2198,  0.5992,  2.5581,  4.2026,\n",
              "        -1.2401,  2.4576,  6.3013, -0.2028,  2.0234, -1.3357, -0.5979, -4.5570,\n",
              "        -0.5299, -0.8345,  5.0021, -8.3483, -2.8570, -3.2076,  0.3620, -7.1454,\n",
              "         4.2216,  6.5898, -1.1265, -0.6891], grad_fn=<MvBackward>)"
            ]
          },
          "metadata": {
            "tags": []
          },
          "execution_count": 110
        }
      ]
    },
    {
      "cell_type": "code",
      "metadata": {
        "id": "hQK6lmU9aYtH",
        "colab_type": "code",
        "colab": {
          "base_uri": "https://localhost:8080/",
          "height": 34
        },
        "outputId": "7dde86a1-9ff6-4cf4-d3a0-965664b97226"
      },
      "source": [
        "o = y.sum()\n",
        "o"
      ],
      "execution_count": 111,
      "outputs": [
        {
          "output_type": "execute_result",
          "data": {
            "text/plain": [
              "tensor(30.0060, grad_fn=<SumBackward0>)"
            ]
          },
          "metadata": {
            "tags": []
          },
          "execution_count": 111
        }
      ]
    },
    {
      "cell_type": "code",
      "metadata": {
        "id": "V8waSka3aj1q",
        "colab_type": "code",
        "colab": {}
      },
      "source": [
        "# 微分を実行する\n",
        "o.backward()"
      ],
      "execution_count": 0,
      "outputs": []
    },
    {
      "cell_type": "code",
      "metadata": {
        "id": "K26oT5HJawOE",
        "colab_type": "code",
        "colab": {
          "base_uri": "https://localhost:8080/",
          "height": 34
        },
        "outputId": "d0245d93-478b-4487-de69-213f4ea78ba4"
      },
      "source": [
        "# 解析解と比較\n",
        "a.grad != x.sum(0)"
      ],
      "execution_count": 113,
      "outputs": [
        {
          "output_type": "execute_result",
          "data": {
            "text/plain": [
              "tensor([False, False, False])"
            ]
          },
          "metadata": {
            "tags": []
          },
          "execution_count": 113
        }
      ]
    },
    {
      "cell_type": "code",
      "metadata": {
        "id": "uFaKBVsybTz4",
        "colab_type": "code",
        "colab": {
          "base_uri": "https://localhost:8080/",
          "height": 34
        },
        "outputId": "c725c78b-71c3-4e7a-c1a5-205e86c5a136"
      },
      "source": [
        "a.grad"
      ],
      "execution_count": 115,
      "outputs": [
        {
          "output_type": "execute_result",
          "data": {
            "text/plain": [
              "tensor([18.3623, -4.4232,  6.8300])"
            ]
          },
          "metadata": {
            "tags": []
          },
          "execution_count": 115
        }
      ]
    },
    {
      "cell_type": "code",
      "metadata": {
        "id": "hdnGId-ba2xt",
        "colab_type": "code",
        "colab": {
          "base_uri": "https://localhost:8080/",
          "height": 34
        },
        "outputId": "17a7b828-1a72-4de8-e12b-27c06998ad55"
      },
      "source": [
        "x.sum(0)"
      ],
      "execution_count": 114,
      "outputs": [
        {
          "output_type": "execute_result",
          "data": {
            "text/plain": [
              "tensor([18.3623, -4.4232,  6.8300])"
            ]
          },
          "metadata": {
            "tags": []
          },
          "execution_count": 114
        }
      ]
    },
    {
      "cell_type": "code",
      "metadata": {
        "id": "hj4117qjbR1T",
        "colab_type": "code",
        "colab": {}
      },
      "source": [
        ""
      ],
      "execution_count": 0,
      "outputs": []
    }
  ]
}