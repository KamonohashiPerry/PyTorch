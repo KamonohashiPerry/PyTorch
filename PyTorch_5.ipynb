{
  "nbformat": 4,
  "nbformat_minor": 0,
  "metadata": {
    "colab": {
      "name": "PyTorch_5.ipynb",
      "provenance": [],
      "collapsed_sections": [],
      "include_colab_link": true
    },
    "kernelspec": {
      "name": "python3",
      "display_name": "Python 3"
    },
    "accelerator": "GPU"
  },
  "cells": [
    {
      "cell_type": "markdown",
      "metadata": {
        "id": "view-in-github",
        "colab_type": "text"
      },
      "source": [
        "<a href=\"https://colab.research.google.com/github/KamonohashiPerry/PyTorch/blob/master/PyTorch_5.ipynb\" target=\"_parent\"><img src=\"https://colab.research.google.com/assets/colab-badge.svg\" alt=\"Open In Colab\"/></a>"
      ]
    },
    {
      "cell_type": "markdown",
      "metadata": {
        "id": "psUl7qkT4uNE",
        "colab_type": "text"
      },
      "source": [
        "# PyTorchのインストール\n",
        "+ Colabの編集→ノートブックの設定でGPUモードにすることをお忘れなく。"
      ]
    },
    {
      "cell_type": "code",
      "metadata": {
        "id": "Tk5T777J4OE6",
        "colab_type": "code",
        "outputId": "3602be96-b39e-441d-86fe-a867dad1bc52",
        "colab": {
          "base_uri": "https://localhost:8080/",
          "height": 187
        }
      },
      "source": [
        "# pip install http://download.pytorch.org/whl/cu80/torch-0.4.0-cp36-cp36m-linux_x86_64.whl"
      ],
      "execution_count": 0,
      "outputs": [
        {
          "output_type": "stream",
          "text": [
            "Collecting torch==0.4.0\n",
            "\u001b[?25l  Downloading http://download.pytorch.org/whl/cu80/torch-0.4.0-cp36-cp36m-linux_x86_64.whl (484.0MB)\n",
            "\u001b[K     |████████████████████████████████| 484.0MB 89.0MB/s \n",
            "\u001b[31mERROR: torchvision 0.4.2 has requirement torch==1.3.1, but you'll have torch 0.4.0 which is incompatible.\u001b[0m\n",
            "\u001b[31mERROR: fastai 1.0.59 has requirement torch>=1.0.0, but you'll have torch 0.4.0 which is incompatible.\u001b[0m\n",
            "\u001b[?25hInstalling collected packages: torch\n",
            "  Found existing installation: torch 1.3.1\n",
            "    Uninstalling torch-1.3.1:\n",
            "      Successfully uninstalled torch-1.3.1\n",
            "Successfully installed torch-0.4.0\n"
          ],
          "name": "stdout"
        }
      ]
    },
    {
      "cell_type": "code",
      "metadata": {
        "id": "qMAYS8QJ4wHk",
        "colab_type": "code",
        "outputId": "aaf87e80-5098-4a6f-954e-db0dfa794cfe",
        "colab": {
          "base_uri": "https://localhost:8080/",
          "height": 238
        }
      },
      "source": [
        "# pip install torchvision"
      ],
      "execution_count": 0,
      "outputs": [
        {
          "output_type": "stream",
          "text": [
            "Requirement already satisfied: torchvision in /usr/local/lib/python3.6/dist-packages (0.4.2)\n",
            "Collecting torch==1.3.1\n",
            "\u001b[?25l  Downloading https://files.pythonhosted.org/packages/88/95/90e8c4c31cfc67248bf944ba42029295b77159982f532c5689bcfe4e9108/torch-1.3.1-cp36-cp36m-manylinux1_x86_64.whl (734.6MB)\n",
            "\u001b[K     |████████████████████████████████| 734.6MB 23kB/s \n",
            "\u001b[?25hRequirement already satisfied: six in /usr/local/lib/python3.6/dist-packages (from torchvision) (1.12.0)\n",
            "Requirement already satisfied: numpy in /usr/local/lib/python3.6/dist-packages (from torchvision) (1.17.4)\n",
            "Requirement already satisfied: pillow>=4.1.1 in /usr/local/lib/python3.6/dist-packages (from torchvision) (4.3.0)\n",
            "Requirement already satisfied: olefile in /usr/local/lib/python3.6/dist-packages (from pillow>=4.1.1->torchvision) (0.46)\n",
            "Installing collected packages: torch\n",
            "  Found existing installation: torch 0.4.0\n",
            "    Uninstalling torch-0.4.0:\n",
            "      Successfully uninstalled torch-0.4.0\n",
            "Successfully installed torch-1.3.1\n"
          ],
          "name": "stdout"
        }
      ]
    },
    {
      "cell_type": "code",
      "metadata": {
        "id": "hpbBwXiN40MV",
        "colab_type": "code",
        "outputId": "1720eaee-370d-4102-85ff-15e54a153bbc",
        "colab": {
          "base_uri": "https://localhost:8080/",
          "height": 34
        }
      },
      "source": [
        "# pip install tqdm"
      ],
      "execution_count": 0,
      "outputs": [
        {
          "output_type": "stream",
          "text": [
            "Requirement already satisfied: tqdm in /usr/local/lib/python3.6/dist-packages (4.28.1)\n"
          ],
          "name": "stdout"
        }
      ]
    },
    {
      "cell_type": "markdown",
      "metadata": {
        "id": "VPWZNZX346jj",
        "colab_type": "text"
      },
      "source": [
        "インストールできたかの確認"
      ]
    },
    {
      "cell_type": "code",
      "metadata": {
        "id": "yN__77Ap417w",
        "colab_type": "code",
        "colab": {}
      },
      "source": [
        "import torch"
      ],
      "execution_count": 0,
      "outputs": []
    },
    {
      "cell_type": "code",
      "metadata": {
        "id": "XPctnygX4-12",
        "colab_type": "code",
        "colab": {
          "base_uri": "https://localhost:8080/",
          "height": 34
        },
        "outputId": "d71f9586-46f8-4a13-bbfa-8a189d26ea67"
      },
      "source": [
        "torch.tensor([1, 2, 3]).to(\"cuda:0\")"
      ],
      "execution_count": 2,
      "outputs": [
        {
          "output_type": "execute_result",
          "data": {
            "text/plain": [
              "tensor([1, 2, 3], device='cuda:0')"
            ]
          },
          "metadata": {
            "tags": []
          },
          "execution_count": 2
        }
      ]
    },
    {
      "cell_type": "code",
      "metadata": {
        "id": "7iiN-QLZ5BiV",
        "colab_type": "code",
        "colab": {}
      },
      "source": [
        "# !apt-get install -y -qq software-properties-common python-software-properties module-init-tools\n",
        "# !add-apt-repository -y ppa:alessandro-strada/ppa 2>&1 > /dev/null\n",
        "# !apt-get update -qq 2>&1 > /dev/null\n",
        "# !apt-get -y install -qq google-drive-ocamlfuse fuse\n",
        "\n",
        "# from google.colab import auth\n",
        "# auth.authenticate_user()\n",
        "# from oauth2client.client import GoogleCredentials\n",
        "# creds = GoogleCredentials.get_application_default()\n",
        "# import getpass\n",
        "# !google-drive-ocamlfuse -headless -id={creds.client_id} -secret={creds.client_secret} < /dev/null 2>&1 | grep URL\n",
        "\n",
        "# vcode = getpass.getpass()\n",
        "# !echo {vcode} | google-drive-ocamlfuse -headless -id={creds.client_id} -secret={creds.client_secret}"
      ],
      "execution_count": 0,
      "outputs": []
    },
    {
      "cell_type": "code",
      "metadata": {
        "id": "-vFtGVjP5JKn",
        "colab_type": "code",
        "colab": {}
      },
      "source": [
        "# # drive mean root directory of  google drive\n",
        "# !mkdir -p drive\n",
        "# !google-drive-ocamlfuse drive\n",
        "# !ls drive/\"Colab Notebooks\"/PyTorch"
      ],
      "execution_count": 0,
      "outputs": []
    },
    {
      "cell_type": "code",
      "metadata": {
        "id": "9PSPHCNt5JWG",
        "colab_type": "code",
        "colab": {}
      },
      "source": [
        "import torch\n",
        "from torch import nn, optim\n",
        "from torch.utils.data import (Dataset, DataLoader, TensorDataset)\n",
        "import tqdm\n",
        "\n",
        "import warnings\n",
        "warnings.filterwarnings('ignore')"
      ],
      "execution_count": 0,
      "outputs": []
    },
    {
      "cell_type": "code",
      "metadata": {
        "id": "iX8XuUoL0l6g",
        "colab_type": "code",
        "outputId": "dcae595c-c8f5-4e25-b885-2e0e0a11d730",
        "colab": {
          "base_uri": "https://localhost:8080/",
          "height": 204
        }
      },
      "source": [
        "!wget http://files.grouplens.org/datasets/movielens/ml-20m.zip"
      ],
      "execution_count": 6,
      "outputs": [
        {
          "output_type": "stream",
          "text": [
            "--2019-12-28 06:08:32--  http://files.grouplens.org/datasets/movielens/ml-20m.zip\n",
            "Resolving files.grouplens.org (files.grouplens.org)... 128.101.65.152\n",
            "Connecting to files.grouplens.org (files.grouplens.org)|128.101.65.152|:80... connected.\n",
            "HTTP request sent, awaiting response... 200 OK\n",
            "Length: 198702078 (189M) [application/zip]\n",
            "Saving to: ‘ml-20m.zip’\n",
            "\n",
            "ml-20m.zip          100%[===================>] 189.50M  56.8MB/s    in 3.5s    \n",
            "\n",
            "2019-12-28 06:08:36 (53.9 MB/s) - ‘ml-20m.zip’ saved [198702078/198702078]\n",
            "\n"
          ],
          "name": "stdout"
        }
      ]
    },
    {
      "cell_type": "code",
      "metadata": {
        "id": "IoGg6OzSJaWj",
        "colab_type": "code",
        "outputId": "ddb838bb-9b53-40e0-c286-e276f61e3da4",
        "colab": {
          "base_uri": "https://localhost:8080/",
          "height": 170
        }
      },
      "source": [
        "!unzip ml-20m.zip"
      ],
      "execution_count": 7,
      "outputs": [
        {
          "output_type": "stream",
          "text": [
            "Archive:  ml-20m.zip\n",
            "   creating: ml-20m/\n",
            "  inflating: ml-20m/genome-scores.csv  \n",
            "  inflating: ml-20m/genome-tags.csv  \n",
            "  inflating: ml-20m/links.csv        \n",
            "  inflating: ml-20m/movies.csv       \n",
            "  inflating: ml-20m/ratings.csv      \n",
            "  inflating: ml-20m/README.txt       \n",
            "  inflating: ml-20m/tags.csv         \n"
          ],
          "name": "stdout"
        }
      ]
    },
    {
      "cell_type": "code",
      "metadata": {
        "id": "bTVGGHH_LCn3",
        "colab_type": "code",
        "outputId": "d1edfcdd-97da-4f3f-b6ea-a06792bff040",
        "colab": {
          "base_uri": "https://localhost:8080/",
          "height": 34
        }
      },
      "source": [
        "pwd"
      ],
      "execution_count": 8,
      "outputs": [
        {
          "output_type": "execute_result",
          "data": {
            "text/plain": [
              "'/content'"
            ]
          },
          "metadata": {
            "tags": []
          },
          "execution_count": 8
        }
      ]
    },
    {
      "cell_type": "code",
      "metadata": {
        "id": "rRULdFyELG9T",
        "colab_type": "code",
        "outputId": "8877088c-6317-4213-d3d9-0a730358e551",
        "colab": {
          "base_uri": "https://localhost:8080/",
          "height": 34
        }
      },
      "source": [
        "ls"
      ],
      "execution_count": 9,
      "outputs": [
        {
          "output_type": "stream",
          "text": [
            "\u001b[0m\u001b[01;34mml-20m\u001b[0m/  ml-20m.zip  \u001b[01;34msample_data\u001b[0m/\n"
          ],
          "name": "stdout"
        }
      ]
    },
    {
      "cell_type": "code",
      "metadata": {
        "id": "dE3lhaubJ3pU",
        "colab_type": "code",
        "outputId": "250094f8-2d0c-43a6-9f66-e66bda9a6660",
        "colab": {
          "base_uri": "https://localhost:8080/",
          "height": 136
        }
      },
      "source": [
        "import pandas as pd\n",
        "\n",
        "# 訓練データとテストデータを分けるのに使用する\n",
        "from sklearn import model_selection\n",
        "\n",
        "df = pd.read_csv(\"/content/ml-20m/ratings.csv\")\n",
        "\n",
        "# Xは(userID, movieId)のペア\n",
        "X = df[[\"userId\", \"movieId\"]].values\n",
        "X"
      ],
      "execution_count": 10,
      "outputs": [
        {
          "output_type": "execute_result",
          "data": {
            "text/plain": [
              "array([[     1,      2],\n",
              "       [     1,     29],\n",
              "       [     1,     32],\n",
              "       ...,\n",
              "       [138493,  69644],\n",
              "       [138493,  70286],\n",
              "       [138493,  71619]])"
            ]
          },
          "metadata": {
            "tags": []
          },
          "execution_count": 10
        }
      ]
    },
    {
      "cell_type": "code",
      "metadata": {
        "id": "v49WRDNTLati",
        "colab_type": "code",
        "outputId": "3c55030d-3608-4ca5-a3e5-a9365c927a75",
        "colab": {
          "base_uri": "https://localhost:8080/",
          "height": 136
        }
      },
      "source": [
        "Y = df[[\"rating\"]].values\n",
        "Y"
      ],
      "execution_count": 11,
      "outputs": [
        {
          "output_type": "execute_result",
          "data": {
            "text/plain": [
              "array([[3.5],\n",
              "       [3.5],\n",
              "       [3.5],\n",
              "       ...,\n",
              "       [3. ],\n",
              "       [5. ],\n",
              "       [2.5]])"
            ]
          },
          "metadata": {
            "tags": []
          },
          "execution_count": 11
        }
      ]
    },
    {
      "cell_type": "code",
      "metadata": {
        "id": "WXTrpbE7MG71",
        "colab_type": "code",
        "colab": {}
      },
      "source": [
        "# 訓練データとテストデータを9:1に分割\n",
        "train_X, test_X, train_Y, test_Y = model_selection.train_test_split(X, Y, test_size=0.1)"
      ],
      "execution_count": 0,
      "outputs": []
    },
    {
      "cell_type": "code",
      "metadata": {
        "id": "siwcAqG5Mg8j",
        "colab_type": "code",
        "outputId": "480ce6ea-a3c8-4726-b661-6bef99a8d563",
        "colab": {
          "base_uri": "https://localhost:8080/",
          "height": 34
        }
      },
      "source": [
        "train_X.shape"
      ],
      "execution_count": 13,
      "outputs": [
        {
          "output_type": "execute_result",
          "data": {
            "text/plain": [
              "(18000236, 2)"
            ]
          },
          "metadata": {
            "tags": []
          },
          "execution_count": 13
        }
      ]
    },
    {
      "cell_type": "code",
      "metadata": {
        "id": "KMTDUn5VMjFE",
        "colab_type": "code",
        "outputId": "6576ec2d-2f48-4fd3-f723-8e55fcdeb5e9",
        "colab": {
          "base_uri": "https://localhost:8080/",
          "height": 34
        }
      },
      "source": [
        "test_X.shape"
      ],
      "execution_count": 14,
      "outputs": [
        {
          "output_type": "execute_result",
          "data": {
            "text/plain": [
              "(2000027, 2)"
            ]
          },
          "metadata": {
            "tags": []
          },
          "execution_count": 14
        }
      ]
    },
    {
      "cell_type": "code",
      "metadata": {
        "id": "0O81fHA-MmG8",
        "colab_type": "code",
        "outputId": "786ba4b8-cf1b-4384-9d00-bd56afc94920",
        "colab": {
          "base_uri": "https://localhost:8080/",
          "height": 34
        }
      },
      "source": [
        "train_Y.shape"
      ],
      "execution_count": 15,
      "outputs": [
        {
          "output_type": "execute_result",
          "data": {
            "text/plain": [
              "(18000236, 1)"
            ]
          },
          "metadata": {
            "tags": []
          },
          "execution_count": 15
        }
      ]
    },
    {
      "cell_type": "code",
      "metadata": {
        "id": "oJnEL3o8MoXL",
        "colab_type": "code",
        "outputId": "9b1e7337-24cd-45e6-a975-9c957335b05f",
        "colab": {
          "base_uri": "https://localhost:8080/",
          "height": 34
        }
      },
      "source": [
        "test_Y.shape"
      ],
      "execution_count": 16,
      "outputs": [
        {
          "output_type": "execute_result",
          "data": {
            "text/plain": [
              "(2000027, 1)"
            ]
          },
          "metadata": {
            "tags": []
          },
          "execution_count": 16
        }
      ]
    },
    {
      "cell_type": "code",
      "metadata": {
        "id": "HuBLw2NUMqGE",
        "colab_type": "code",
        "colab": {}
      },
      "source": [
        "# XはIDで整数なのでint64、Yは実数値なのでfloat32のTensorに変換する\n",
        "train_dataset = TensorDataset(torch.tensor(train_X, dtype=torch.int64),\n",
        "                               torch.tensor(train_Y, dtype=torch.float32))"
      ],
      "execution_count": 0,
      "outputs": []
    },
    {
      "cell_type": "code",
      "metadata": {
        "id": "7K6eahpyNJdV",
        "colab_type": "code",
        "outputId": "248adfbe-f176-4965-8e81-2069874feba0",
        "colab": {
          "base_uri": "https://localhost:8080/",
          "height": 238
        }
      },
      "source": [
        "train_dataset.tensors"
      ],
      "execution_count": 18,
      "outputs": [
        {
          "output_type": "execute_result",
          "data": {
            "text/plain": [
              "(tensor([[125469,   1208],\n",
              "         [ 10477,   1826],\n",
              "         [123352,  81516],\n",
              "         ...,\n",
              "         [ 99519,   2352],\n",
              "         [  1620,   2706],\n",
              "         [ 62100,   1222]]), tensor([[5.0000],\n",
              "         [1.0000],\n",
              "         [3.5000],\n",
              "         ...,\n",
              "         [2.0000],\n",
              "         [4.0000],\n",
              "         [4.5000]]))"
            ]
          },
          "metadata": {
            "tags": []
          },
          "execution_count": 18
        }
      ]
    },
    {
      "cell_type": "code",
      "metadata": {
        "id": "KFeOk-D7NQWk",
        "colab_type": "code",
        "colab": {}
      },
      "source": [
        "test_dataset = TensorDataset(torch.tensor(test_X, dtype=torch.int64),\n",
        "                               torch.tensor(test_Y, dtype=torch.float32))"
      ],
      "execution_count": 0,
      "outputs": []
    },
    {
      "cell_type": "code",
      "metadata": {
        "id": "4ruYLnH0Nwmg",
        "colab_type": "code",
        "outputId": "721e3cda-1579-4da5-c368-f5f8eebf2ae2",
        "colab": {
          "base_uri": "https://localhost:8080/",
          "height": 238
        }
      },
      "source": [
        "test_dataset.tensors"
      ],
      "execution_count": 20,
      "outputs": [
        {
          "output_type": "execute_result",
          "data": {
            "text/plain": [
              "(tensor([[132616,   2020],\n",
              "         [ 17572,   4878],\n",
              "         [ 29575,   3130],\n",
              "         ...,\n",
              "         [  6636,   3571],\n",
              "         [ 15189,    163],\n",
              "         [ 75880,    273]]), tensor([[2.],\n",
              "         [5.],\n",
              "         [2.],\n",
              "         ...,\n",
              "         [4.],\n",
              "         [4.],\n",
              "         [4.]]))"
            ]
          },
          "metadata": {
            "tags": []
          },
          "execution_count": 20
        }
      ]
    },
    {
      "cell_type": "code",
      "metadata": {
        "id": "EBEAWnS1NyRJ",
        "colab_type": "code",
        "colab": {}
      },
      "source": [
        "train_loader = DataLoader(train_dataset, batch_size=1024, num_workers=4,shuffle=True)"
      ],
      "execution_count": 0,
      "outputs": []
    },
    {
      "cell_type": "code",
      "metadata": {
        "id": "DfLSzDETOEnu",
        "colab_type": "code",
        "outputId": "9168f7ef-2dba-49ff-da07-2e72259d52ad",
        "colab": {
          "base_uri": "https://localhost:8080/",
          "height": 68
        }
      },
      "source": [
        "print(train_loader.batch_size)\n",
        "print(train_loader.num_workers)\n",
        "print(train_loader.dataset)"
      ],
      "execution_count": 22,
      "outputs": [
        {
          "output_type": "stream",
          "text": [
            "1024\n",
            "4\n",
            "<torch.utils.data.dataset.TensorDataset object at 0x7fa1716f9940>\n"
          ],
          "name": "stdout"
        }
      ]
    },
    {
      "cell_type": "code",
      "metadata": {
        "id": "SU_R72koOzq5",
        "colab_type": "code",
        "outputId": "948cffb6-52cd-4864-fde9-46c4cc75acf6",
        "colab": {
          "base_uri": "https://localhost:8080/",
          "height": 238
        }
      },
      "source": [
        "train_loader.dataset.tensors"
      ],
      "execution_count": 23,
      "outputs": [
        {
          "output_type": "execute_result",
          "data": {
            "text/plain": [
              "(tensor([[125469,   1208],\n",
              "         [ 10477,   1826],\n",
              "         [123352,  81516],\n",
              "         ...,\n",
              "         [ 99519,   2352],\n",
              "         [  1620,   2706],\n",
              "         [ 62100,   1222]]), tensor([[5.0000],\n",
              "         [1.0000],\n",
              "         [3.5000],\n",
              "         ...,\n",
              "         [2.0000],\n",
              "         [4.0000],\n",
              "         [4.5000]]))"
            ]
          },
          "metadata": {
            "tags": []
          },
          "execution_count": 23
        }
      ]
    },
    {
      "cell_type": "code",
      "metadata": {
        "id": "roZ7gZK-OGtC",
        "colab_type": "code",
        "colab": {}
      },
      "source": [
        "test_loader = DataLoader(test_dataset, batch_size=1024,num_workers=4)"
      ],
      "execution_count": 0,
      "outputs": []
    },
    {
      "cell_type": "code",
      "metadata": {
        "id": "g16UV6niOQnp",
        "colab_type": "code",
        "colab": {}
      },
      "source": [
        "　# PyTorrchで行列因子分解\n",
        "\n",
        "class MatrixFactorization(nn.Module):\n",
        "  def __init__(self, max_user, max_item, k=20):\n",
        "    super().__init__()\n",
        "    self.max_user = max_user\n",
        "    self.max_item = max_item\n",
        "    self.user_emb = nn.Embedding(max_user, k, 0)\n",
        "    self.item_emb = nn.Embedding(max_item, k, 0)\n",
        "\n",
        "  def forward(self, x):\n",
        "    user_idx = x[:, 0]\n",
        "    item_idx = x[:, 1]\n",
        "    user_feature = self.user_emb(user_idx)\n",
        "    item_feature = self.item_emb(item_idx)\n",
        "\n",
        "    # user_feature*item_featureは(batch_size, k)次元なのでkについてsumを取るとそれぞれのサンプルの内積になる\n",
        "    out = torch.sum(user_feature*item_feature, 1)\n",
        "\n",
        "    # [0, 5]の範囲に収まるようにシグモイド関数を使って変換\n",
        "    out = nn.functional.sigmoid(out)*5\n",
        "    return out"
      ],
      "execution_count": 0,
      "outputs": []
    },
    {
      "cell_type": "code",
      "metadata": {
        "id": "yYBvHBSQNGz-",
        "colab_type": "code",
        "colab": {}
      },
      "source": [
        "# ユーザーや商品の個数\n",
        "max_user, max_item = X.max(0)\n",
        "\n",
        "# np.int64型をPythonの標準のintにキャスト\n",
        "max_user = int(max_user)\n",
        "max_item = int(max_item)\n",
        "net = MatrixFactorization(max_user+1, max_item+1)"
      ],
      "execution_count": 0,
      "outputs": []
    },
    {
      "cell_type": "code",
      "metadata": {
        "id": "PTd29vYkNyNb",
        "colab_type": "code",
        "colab": {}
      },
      "source": [
        "# 評価関数の作成(L1損失でMeanAbsoluteErrorを計算)\n",
        "def eval_net(net, loader, score_fn=nn.functional.l1_loss, device=\"cpu\"):\n",
        "  ys = []\n",
        "  ypreds = []\n",
        "  for x, y in loader:\n",
        "    x = x.to(device)\n",
        "    ys.append(y)\n",
        "    with torch.no_grad():\n",
        "      ypred = net(x).to(\"cpu\").view(-1)\n",
        "    ypreds.append(ypred)\n",
        "  score = score_fn(torch.cat(ys).squeeze(), torch.cat(ypreds))\n",
        "  return score.item()"
      ],
      "execution_count": 0,
      "outputs": []
    },
    {
      "cell_type": "code",
      "metadata": {
        "id": "pjEEnVVGOstV",
        "colab_type": "code",
        "colab": {
          "base_uri": "https://localhost:8080/",
          "height": 187
        },
        "outputId": "97fe698c-8811-463a-d9a3-f32782ae5cde"
      },
      "source": [
        "# 訓練部分の作成\n",
        "\n",
        "from statistics import mean\n",
        "\n",
        "net.to(\"cuda:0\")\n",
        "opt = optim.Adam(net.parameters(), lr=0.01)\n",
        "loss_f = nn.MSELoss()\n",
        "\n",
        "for epoch in range(5):\n",
        "  loss_log = []\n",
        "  for x, y, in tqdm.tqdm(train_loader):\n",
        "    x = x.to(\"cuda:0\")\n",
        "    y = y.to(\"cuda:0\")\n",
        "    o = net(x)\n",
        "\n",
        "    # 損失関数の計算\n",
        "    loss = loss_f(o, y.view(-1))\n",
        "    # 勾配をゼロにする\n",
        "    net.zero_grad()\n",
        "    # 誤差逆伝播法を使う\n",
        "    loss.backward()\n",
        "    # 更新する\n",
        "    opt.step()\n",
        "    # 損失関数に追加\n",
        "    loss_log.append(loss.item())\n",
        "  # epochごとに評価\n",
        "  test_score = eval_net(net, test_loader, device=\"cuda:0\")\n",
        "  print(epoch, mean(loss_log), test_score, flush=True)"
      ],
      "execution_count": 32,
      "outputs": [
        {
          "output_type": "stream",
          "text": [
            "100%|██████████| 17579/17579 [02:41<00:00, 109.07it/s]\n"
          ],
          "name": "stderr"
        },
        {
          "output_type": "stream",
          "text": [
            "0 1.6111447886094494 0.7324641942977905\n"
          ],
          "name": "stdout"
        },
        {
          "output_type": "stream",
          "text": [
            "100%|██████████| 17579/17579 [02:45<00:00, 106.49it/s]\n"
          ],
          "name": "stderr"
        },
        {
          "output_type": "stream",
          "text": [
            "1 0.8787306211827334 0.7078908085823059\n"
          ],
          "name": "stdout"
        },
        {
          "output_type": "stream",
          "text": [
            "100%|██████████| 17579/17579 [02:44<00:00, 107.10it/s]\n"
          ],
          "name": "stderr"
        },
        {
          "output_type": "stream",
          "text": [
            "2 0.834682711043912 0.699458658695221\n"
          ],
          "name": "stdout"
        },
        {
          "output_type": "stream",
          "text": [
            "100%|██████████| 17579/17579 [02:44<00:00, 88.21it/s] \n"
          ],
          "name": "stderr"
        },
        {
          "output_type": "stream",
          "text": [
            "3 0.8134696860790551 0.6958974003791809\n"
          ],
          "name": "stdout"
        },
        {
          "output_type": "stream",
          "text": [
            "100%|██████████| 17579/17579 [02:44<00:00, 106.60it/s]\n"
          ],
          "name": "stderr"
        },
        {
          "output_type": "stream",
          "text": [
            "4 0.8012945498953067 0.6939730644226074\n"
          ],
          "name": "stdout"
        }
      ]
    },
    {
      "cell_type": "code",
      "metadata": {
        "id": "S3JgFIYFQkLn",
        "colab_type": "code",
        "colab": {
          "base_uri": "https://localhost:8080/",
          "height": 34
        },
        "outputId": "9112d105-6017-44e9-85c0-6fb886ad67ec"
      },
      "source": [
        "# 訓練したモデルをCPUに移す\n",
        "net.to(\"cpu\")\n",
        "\n",
        "# ユーザー1の映画10の評価を計算したい\n",
        "query = (1, 10.0)\n",
        "\n",
        "# int64のTensorに変換し、batchの次元を付与\n",
        "query = torch.tensor(query, dtype=torch.int64).view(1, -1)\n",
        "\n",
        "# netに渡す\n",
        "net(query)"
      ],
      "execution_count": 44,
      "outputs": [
        {
          "output_type": "execute_result",
          "data": {
            "text/plain": [
              "tensor([3.9927], grad_fn=<MulBackward0>)"
            ]
          },
          "metadata": {
            "tags": []
          },
          "execution_count": 44
        }
      ]
    },
    {
      "cell_type": "code",
      "metadata": {
        "id": "tEP9vKwISUaP",
        "colab_type": "code",
        "colab": {}
      },
      "source": [
        "# ユーザーの上位5本の映画をピックアップ\n",
        "query = torch.stack([\n",
        "                      torch.zeros(max_item).fill_(1),\n",
        "                      torch.arange(1, max_item+1).float() # float()をつけたら動いた。\n",
        "], 1).long()\n",
        "\n",
        "# scoresは上位k本のスコア\n",
        "# indicesは上位k本の位置、すなわちmovieId\n",
        "scores, indices = torch.topk(net(query), 5)"
      ],
      "execution_count": 0,
      "outputs": []
    },
    {
      "cell_type": "code",
      "metadata": {
        "id": "aTLI-bzKUJdu",
        "colab_type": "code",
        "colab": {
          "base_uri": "https://localhost:8080/",
          "height": 34
        },
        "outputId": "1cd2b964-712c-4230-b12b-48fd870763fb"
      },
      "source": [
        "scores"
      ],
      "execution_count": 50,
      "outputs": [
        {
          "output_type": "execute_result",
          "data": {
            "text/plain": [
              "tensor([4.9999, 4.9998, 4.9998, 4.9998, 4.9998], grad_fn=<TopkBackward>)"
            ]
          },
          "metadata": {
            "tags": []
          },
          "execution_count": 50
        }
      ]
    },
    {
      "cell_type": "code",
      "metadata": {
        "id": "LFkoIunDWk8r",
        "colab_type": "code",
        "colab": {
          "base_uri": "https://localhost:8080/",
          "height": 34
        },
        "outputId": "f1d32bc1-a7c7-48a2-80bb-bb25a7bbb648"
      },
      "source": [
        "indices"
      ],
      "execution_count": 51,
      "outputs": [
        {
          "output_type": "execute_result",
          "data": {
            "text/plain": [
              "tensor([117301,   9173,  37305,  98864,  30002])"
            ]
          },
          "metadata": {
            "tags": []
          },
          "execution_count": 51
        }
      ]
    },
    {
      "cell_type": "markdown",
      "metadata": {
        "id": "fjAafbDYYTQQ",
        "colab_type": "text"
      },
      "source": [
        "## ニューラル行列因子分解"
      ]
    },
    {
      "cell_type": "code",
      "metadata": {
        "id": "ULHUXHw1WmeU",
        "colab_type": "code",
        "colab": {}
      },
      "source": [
        "# 非線形の関数を利用したモデリング\n",
        "class NeuralMatrixFactorization(nn.Module):\n",
        "  def __init__(self, max_user, max_item,\n",
        "               user_k=10, item_k=10,\n",
        "               hidden_dim=50):\n",
        "    super().__init__()\n",
        "    self.user_emb = nn.Embedding(max_user, user_k, 0)\n",
        "    self.item_emb = nn.Embedding(max_item, item_k, 0)\n",
        "    self.mlp = nn.Sequential(\n",
        "        nn.Linear(user_k + item_k, hidden_dim),\n",
        "        nn.ReLU(),\n",
        "        nn.BatchNorm1d(hidden_dim),\n",
        "        nn.Linear(hidden_dim, hidden_dim),\n",
        "        nn.ReLU(),\n",
        "        nn.BatchNorm1d(hidden_dim),\n",
        "        nn.Linear(hidden_dim, 1)\n",
        "    )\n",
        "\n",
        "  def forward(self, x):\n",
        "    user_idx = x[:, 0]\n",
        "    item_idx = x[:, 1]\n",
        "    user_feature = self.user_emb(user_idx)\n",
        "    item_feature = self.item_emb(item_idx)\n",
        "\n",
        "    # ユーザー特徴量と商品特徴量をまとめて1つのベクトルにする\n",
        "    out = torch.cat([user_feature, item_feature], 1)\n",
        "\n",
        "    # まとめた特徴量ベクトルをMLPに入れる\n",
        "    out = self.mlp(out)\n",
        "    out = nn.functional.sigmoid(out)*5\n",
        "    return out.squeeze()"
      ],
      "execution_count": 0,
      "outputs": []
    },
    {
      "cell_type": "code",
      "metadata": {
        "id": "ukO-zH2tcMyv",
        "colab_type": "code",
        "colab": {}
      },
      "source": [
        "# 付属情報の利用\n",
        "# 区切られたジャンルをBoWに変換\n",
        "\n",
        "import csv\n",
        "from sklearn.feature_extraction.text import CountVectorizer\n",
        "\n",
        "# csv.DictReaderを使用してCSVファイルを読み込み\n",
        "# 必要な部分だけ抽出する\n",
        "with open('/content/ml-20m/movies.csv') as fp:\n",
        "  reader = csv.DictReader(fp)\n",
        "  def parse(d):\n",
        "    movieId = int(d[\"movieId\"])\n",
        "    genres = d[\"genres\"]\n",
        "    return movieId, genres\n",
        "  data = [parse(d) for d in reader]\n",
        "\n",
        "# 内包表記で各要素ごとにデータを抽出\n",
        "movieIds = [x[0] for x in data]\n",
        "genres = [x[1] for x in data]\n",
        "\n",
        "# データに合わせてCountVectorizerを訓練する\n",
        "cv = CountVectorizer(dtype=\"f4\").fit(genres)\n",
        "num_genres = len(cv.get_feature_names())\n",
        "\n",
        "# keyがmovieIdでvalueがBoWのTensorのdictを作る\n",
        "it = cv.transform(genres).toarray()\n",
        "it = (torch.tensor(g, dtype=torch.float32) for g in it)\n",
        "genre_dict = dict(zip(movieIds, it))"
      ],
      "execution_count": 0,
      "outputs": []
    },
    {
      "cell_type": "code",
      "metadata": {
        "id": "D65lKKljeuro",
        "colab_type": "code",
        "colab": {}
      },
      "source": [
        "# カスタムDatasetの作成\n",
        "def first(xs):\n",
        "  it = iter(xs)\n",
        "  return next(it)\n",
        "\n",
        "class MovieLensDataset(Dataset):\n",
        "  def __init__(self, x, y, genres):\n",
        "    # Assert statements are a convenient way to insert debugging assertions into a program. \n",
        "    assert len(x) == len(y)\n",
        "    self.x = x\n",
        "    self.y = y\n",
        "    self.genres = genres\n",
        "\n",
        "    # ジャンル辞書にないmovieIdのときのダミーデータ\n",
        "    self.null_genre = torch.zeros_like(first(genres.values()))\n",
        "\n",
        "  def __len__(self):\n",
        "    return len(self.x)\n",
        "\n",
        "  def __getitem__(self, idx):\n",
        "    x = self.x[idx]\n",
        "    y = self.y[idx]\n",
        "    # x = (userId, movieId)\n",
        "    movieId = x[1]\n",
        "    g = self.genres.get(movieId, self.null_genre)\n",
        "    return x, y, g"
      ],
      "execution_count": 0,
      "outputs": []
    },
    {
      "cell_type": "code",
      "metadata": {
        "id": "aRfkBC1onyTT",
        "colab_type": "code",
        "colab": {}
      },
      "source": [
        "# DataLoaderの作成\n",
        "\n",
        "train_dataset = MovieLensDataset(\n",
        "    torch.tensor(train_X, dtype=torch.int64),\n",
        "    torch.tensor(train_Y, dtype=torch.float32),\n",
        "    genre_dict\n",
        ")\n",
        "\n",
        "\n",
        "test_dataset = MovieLensDataset(\n",
        "    torch.tensor(test_X, dtype=torch.int64),\n",
        "    torch.tensor(test_Y, dtype=torch.float32),\n",
        "    genre_dict\n",
        ")\n",
        "\n",
        "\n",
        "train_loader = DataLoader(\n",
        "    train_dataset,\n",
        "    batch_size=1024,\n",
        "    shuffle=True,\n",
        "    num_workers=4\n",
        ")\n",
        "\n",
        "\n",
        "test_loader = DataLoader(\n",
        "    test_dataset, batch_size=1024, num_workers=4\n",
        ")\n",
        "\n",
        "\n"
      ],
      "execution_count": 0,
      "outputs": []
    },
    {
      "cell_type": "code",
      "metadata": {
        "id": "otnT4Ls8nyhE",
        "colab_type": "code",
        "colab": {}
      },
      "source": [
        "# ネットワークモデルの作成\n",
        "\n",
        "class NeuralMatrixFactorization2(nn.Module):\n",
        "  def __init__(self, max_user, max_item, num_genres,\n",
        "               user_k = 10, item_k = 10, hidden_dim=50):\n",
        "    super().__init__()\n",
        "    self.user_emb = nn.Embedding(max_user, user_k, 0)\n",
        "    self.item_emb = nn.Embedding(max_item, item_k, 0)\n",
        "    self.mlp = nn.Sequential(\n",
        "        # num_genres分だけ次元が増える\n",
        "        nn.Linear(user_k + item_k + num_genres, hidden_dim),\n",
        "        nn.ReLU(),\n",
        "        nn.BatchNorm1d(hidden_dim),\n",
        "        nn.Linear(hidden_dim, hidden_dim),\n",
        "        nn.ReLU(),\n",
        "        nn.BatchNorm1d(hidden_dim),\n",
        "        nn.Linear(hidden_dim, 1)\n",
        "    )\n",
        "\n",
        "  def forward(self, x, g):\n",
        "    user_idx = x[:, 0]\n",
        "    item_idx = x[:, 1]\n",
        "    user_feature = self.user_emb(user_idx)\n",
        "    item_feature = self.item_emb(item_idx)\n",
        "\n",
        "    # ジャンルのBoWをcatで特徴ベクトルに結合する\n",
        "    out = torch.cat([user_feature, item_feature, g], 1)\n",
        "    out = self.mlp(out)\n",
        "    out = nn.functional.sigmoid(out)*5\n",
        "    return out.squeeze()"
      ],
      "execution_count": 0,
      "outputs": []
    },
    {
      "cell_type": "code",
      "metadata": {
        "id": "i1URavbYeyxO",
        "colab_type": "code",
        "colab": {}
      },
      "source": [
        "# ヘルパー関数の修正\n",
        "\n",
        "def eval_net(net, loader, score_fn = nn.functional.l1_loss, device=\"cpu\"):\n",
        "  ys = []\n",
        "  ypreds = []\n",
        "  # loaderはジャンルのBoWも返す\n",
        "  for x, y, g in loader:\n",
        "    x = x.to(device)\n",
        "    g = g.to(device)\n",
        "    ys.append(y)\n",
        "\n",
        "    # userId, movieId以外にジャンルのBoWもネットワーク関数に渡す\n",
        "    with torch.no_grad():\n",
        "      ypred = net(x, g).to(\"cpu\")\n",
        "    ypreds.append(ypred)\n",
        "  score = score_fn(torch.cat(ys).squeeze(), torch.cat(ypreds))\n",
        "  return score"
      ],
      "execution_count": 0,
      "outputs": []
    },
    {
      "cell_type": "code",
      "metadata": {
        "id": "e326y5rUtgHu",
        "colab_type": "code",
        "colab": {
          "base_uri": "https://localhost:8080/",
          "height": 136
        },
        "outputId": "91623921-86d1-4518-c1ef-a7926bc5152d"
      },
      "source": [
        "# 訓練部分の作成\n",
        "\n",
        "net = NeuralMatrixFactorization2(max_user+1, max_item+1, num_genres)\n",
        "opt = optim.Adam(net.parameters(), lr=0.01)\n",
        "loss_f = nn.MSELoss()\n",
        "\n",
        "net.to(\"cuda:0\")\n",
        "for epoch in range(5):\n",
        "  loss_log = []\n",
        "  net.train()\n",
        "  for x, y, g in tqdm.tqdm(train_loader):\n",
        "    x = x.to(\"cuda:0\")\n",
        "    y = y.to(\"cuda:0\")\n",
        "    g = g.to(\"cuda:0\")\n",
        "    o = net(x, g)\n",
        "    loss = loss_f(o, y.view(-1))\n",
        "    net.zero_grad()\n",
        "    loss.backward()\n",
        "    opt.step()\n",
        "    loss_log.append(loss.item())\n",
        "  net.eval()\n",
        "  test_score = eval_net(net, test_loader, device=\"cuda:0\")\n",
        "  print(epoch, mean(loss_log), test_score.item(), flush=True)"
      ],
      "execution_count": 0,
      "outputs": [
        {
          "output_type": "stream",
          "text": [
            "100%|██████████| 17579/17579 [03:49<00:00, 76.64it/s]\n"
          ],
          "name": "stderr"
        },
        {
          "output_type": "stream",
          "text": [
            "0 0.7583076585423479 0.6435149908065796\n"
          ],
          "name": "stdout"
        },
        {
          "output_type": "stream",
          "text": [
            "100%|██████████| 17579/17579 [03:51<00:00, 76.04it/s]\n"
          ],
          "name": "stderr"
        },
        {
          "output_type": "stream",
          "text": [
            "1 0.6924646805866538 0.6338335275650024\n"
          ],
          "name": "stdout"
        },
        {
          "output_type": "stream",
          "text": [
            "100%|██████████| 17579/17579 [03:53<00:00, 75.29it/s]\n"
          ],
          "name": "stderr"
        },
        {
          "output_type": "stream",
          "text": [
            "2 0.6712138898082816 0.6298700571060181\n"
          ],
          "name": "stdout"
        },
        {
          "output_type": "stream",
          "text": [
            "100%|██████████| 17579/17579 [03:53<00:00, 61.35it/s]\n"
          ],
          "name": "stderr"
        }
      ]
    },
    {
      "cell_type": "code",
      "metadata": {
        "id": "OnUNakrLt5pP",
        "colab_type": "code",
        "colab": {}
      },
      "source": [
        "# 指定した位置だけ1で残りが0のTensorを返す補助関数\n",
        "\n",
        "def make_genre_vector(i, max_len):\n",
        "  g = torch.zeros(max_len)\n",
        "  g[i] = 1\n",
        "  return g\n",
        "\n",
        "query_genres = [make_genre_vector(i, num_genres) for i in range(num_genres)]\n",
        "query_genres = torch.stack(query_genres, 1)\n",
        "\n",
        "# num_genres分だけuserId=100とmovieID=0のTensorを作って結合する\n",
        "query = torch.stack([\n",
        "                     torch.empty(num_genres, dtype=torch.int64).fill_(100),\n",
        "                     torch.empty(num_genres, dtype=torch.int64).fill_(0)\n",
        "], 1)\n",
        "\n",
        "# GPUに転送\n",
        "query_genres =query_genres.to(\"cuda:0\")\n",
        "query = query.to(\"cuda:0\")\n",
        "\n",
        "# スコアを計算\n",
        "net(query, query_genres)"
      ],
      "execution_count": 0,
      "outputs": []
    }
  ]
}