{
  "nbformat": 4,
  "nbformat_minor": 0,
  "metadata": {
    "colab": {
      "name": "SinGAN_tutorial.ipynb",
      "provenance": [],
      "collapsed_sections": [],
      "authorship_tag": "ABX9TyMOqaJB4pRXGJohu46ARwaY",
      "include_colab_link": true
    },
    "kernelspec": {
      "name": "python3",
      "display_name": "Python 3"
    },
    "accelerator": "GPU"
  },
  "cells": [
    {
      "cell_type": "markdown",
      "metadata": {
        "id": "view-in-github",
        "colab_type": "text"
      },
      "source": [
        "<a href=\"https://colab.research.google.com/github/KamonohashiPerry/PyTorch/blob/master/SinGAN_tutorial.ipynb\" target=\"_parent\"><img src=\"https://colab.research.google.com/assets/colab-badge.svg\" alt=\"Open In Colab\"/></a>"
      ]
    },
    {
      "cell_type": "code",
      "metadata": {
        "id": "UdL3BhUqgFO9",
        "outputId": "a5b5b320-3d2c-4175-e1e2-6f6ebac72619",
        "colab": {
          "base_uri": "https://localhost:8080/",
          "height": 102
        }
      },
      "source": [
        "pip install torch==1.4.0 torchvision==0.5.0"
      ],
      "execution_count": 3,
      "outputs": [
        {
          "output_type": "stream",
          "text": [
            "Requirement already satisfied: torch==1.4.0 in /usr/local/lib/python3.6/dist-packages (1.4.0)\n",
            "Requirement already satisfied: torchvision==0.5.0 in /usr/local/lib/python3.6/dist-packages (0.5.0)\n",
            "Requirement already satisfied: six in /usr/local/lib/python3.6/dist-packages (from torchvision==0.5.0) (1.15.0)\n",
            "Requirement already satisfied: pillow>=4.1.1 in /usr/local/lib/python3.6/dist-packages (from torchvision==0.5.0) (7.0.0)\n",
            "Requirement already satisfied: numpy in /usr/local/lib/python3.6/dist-packages (from torchvision==0.5.0) (1.18.5)\n"
          ],
          "name": "stdout"
        }
      ]
    },
    {
      "cell_type": "code",
      "metadata": {
        "id": "nlCpovNmueCt",
        "outputId": "94d4018e-044d-405f-f7c6-fd83bc5dec9e",
        "colab": {
          "base_uri": "https://localhost:8080/",
          "height": 34
        }
      },
      "source": [
        "import torch\n",
        "print(torch.__version__)"
      ],
      "execution_count": 4,
      "outputs": [
        {
          "output_type": "stream",
          "text": [
            "1.4.0\n"
          ],
          "name": "stdout"
        }
      ]
    },
    {
      "cell_type": "code",
      "metadata": {
        "id": "_WlFKiwMEa-N",
        "outputId": "88c33bc9-3e7a-4d73-c3f6-0a5ed871dc09",
        "colab": {
          "base_uri": "https://localhost:8080/",
          "height": 34
        }
      },
      "source": [
        "!git clone https://github.com/tamarott/SinGAN.git"
      ],
      "execution_count": 5,
      "outputs": [
        {
          "output_type": "stream",
          "text": [
            "fatal: destination path 'SinGAN' already exists and is not an empty directory.\n"
          ],
          "name": "stdout"
        }
      ]
    },
    {
      "cell_type": "code",
      "metadata": {
        "id": "ya-9E-FIDxbX",
        "outputId": "ae019608-81d8-43f1-e833-023fdad2f655",
        "colab": {
          "base_uri": "https://localhost:8080/",
          "height": 34
        }
      },
      "source": [
        "ls"
      ],
      "execution_count": 6,
      "outputs": [
        {
          "output_type": "stream",
          "text": [
            "\u001b[0m\u001b[01;34msample_data\u001b[0m/  \u001b[01;34mSinGAN\u001b[0m/\n"
          ],
          "name": "stdout"
        }
      ]
    },
    {
      "cell_type": "code",
      "metadata": {
        "id": "3gTGYaFzGEiM",
        "outputId": "9b9a82c4-4679-4e96-fe88-bec41ea18b4a",
        "colab": {
          "base_uri": "https://localhost:8080/",
          "height": 34
        }
      },
      "source": [
        "cd SinGAN/Input/Images/"
      ],
      "execution_count": 7,
      "outputs": [
        {
          "output_type": "stream",
          "text": [
            "/content/SinGAN/Input/Images\n"
          ],
          "name": "stdout"
        }
      ]
    },
    {
      "cell_type": "code",
      "metadata": {
        "id": "knNagufjC9oj",
        "outputId": "043b02de-da94-4744-f9b6-c79106ad4611",
        "colab": {
          "resources": {
            "http://localhost:8080/nbextensions/google.colab/files.js": {
              "data": "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",
              "ok": true,
              "headers": [
                [
                  "content-type",
                  "application/javascript"
                ]
              ],
              "status": 200,
              "status_text": ""
            }
          },
          "base_uri": "https://localhost:8080/",
          "height": 78
        }
      },
      "source": [
        "from google.colab import files\n",
        "\n",
        "# ダイアログが表示され、ローカルファイルを選択してアップロード\n",
        "uploaded = files.upload()"
      ],
      "execution_count": 9,
      "outputs": [
        {
          "output_type": "display_data",
          "data": {
            "text/html": [
              "\n",
              "     <input type=\"file\" id=\"files-e50db9d5-741a-4d30-b5fd-cf174cb2ca43\" name=\"files[]\" multiple disabled\n",
              "        style=\"border:none\" />\n",
              "     <output id=\"result-e50db9d5-741a-4d30-b5fd-cf174cb2ca43\">\n",
              "      Upload widget is only available when the cell has been executed in the\n",
              "      current browser session. Please rerun this cell to enable.\n",
              "      </output>\n",
              "      <script src=\"/nbextensions/google.colab/files.js\"></script> "
            ],
            "text/plain": [
              "<IPython.core.display.HTML object>"
            ]
          },
          "metadata": {
            "tags": []
          }
        },
        {
          "output_type": "stream",
          "text": [
            "Saving figure_1.png to figure_1.png\n"
          ],
          "name": "stdout"
        }
      ]
    },
    {
      "cell_type": "code",
      "metadata": {
        "id": "x8_VzmhvDZlM",
        "outputId": "7056a4d4-605b-406f-823d-7fd2cd1121d5",
        "colab": {
          "base_uri": "https://localhost:8080/",
          "height": 85
        }
      },
      "source": [
        "ls"
      ],
      "execution_count": 10,
      "outputs": [
        {
          "output_type": "stream",
          "text": [
            "\u001b[0m\u001b[01;32m33039_LR.png\u001b[0m*  cows.png         \u001b[01;32mmountains.jpg\u001b[0m*    tree.png        \u001b[01;32mzebra.png\u001b[0m*\n",
            "balloons.png   figure_1.png     \u001b[01;32mseascape.png\u001b[0m*     \u001b[01;32mtrees3.png\u001b[0m*\n",
            "birds.png      \u001b[01;32mlightning1.png\u001b[0m*  starry_night.png  \u001b[01;32mvolacano.png\u001b[0m*\n",
            "colusseum.png  mountains3.png   \u001b[01;32mstone.png\u001b[0m*        \u001b[01;32mwild_bush.jpg\u001b[0m*\n"
          ],
          "name": "stdout"
        }
      ]
    },
    {
      "cell_type": "code",
      "metadata": {
        "id": "SQTXKGZrEuqT",
        "outputId": "8680545c-c58c-4fb8-ffc2-5f691915a5f9",
        "colab": {
          "base_uri": "https://localhost:8080/"
        }
      },
      "source": [
        "cd content"
      ],
      "execution_count": null,
      "outputs": [
        {
          "output_type": "stream",
          "text": [
            "/content\n"
          ],
          "name": "stdout"
        }
      ]
    },
    {
      "cell_type": "code",
      "metadata": {
        "id": "2mNdQV5iF-n3",
        "outputId": "0abfec07-a2a9-401f-f18d-4c72cf5c9931",
        "colab": {
          "base_uri": "https://localhost:8080/",
          "height": 85
        }
      },
      "source": [
        "ls"
      ],
      "execution_count": null,
      "outputs": [
        {
          "output_type": "stream",
          "text": [
            "\u001b[0m\u001b[01;32manimation.py\u001b[0m*  \u001b[01;32mediting.py\u001b[0m*        LICENSE.txt         README.md         \u001b[01;34mSinGAN\u001b[0m/\n",
            "\u001b[01;32mconfig.py\u001b[0m*     \u001b[01;32mharmonization.py\u001b[0m*  \u001b[01;32mmain_train.py\u001b[0m*      requirements.txt  SR.py\n",
            "config.pyc     \u001b[01;34mimgs\u001b[0m/              \u001b[01;32mpaint2image.py\u001b[0m*     \u001b[01;34mSIFID\u001b[0m/\n",
            "\u001b[01;34mDownloads\u001b[0m/     \u001b[01;34mInput\u001b[0m/             \u001b[01;32mrandom_samples.py\u001b[0m*  SIFID.npy\n"
          ],
          "name": "stdout"
        }
      ]
    },
    {
      "cell_type": "code",
      "metadata": {
        "id": "Cg-7KqxFGN7W",
        "outputId": "a6eda2b1-f5f9-4a86-f0c8-5631974d4210",
        "colab": {
          "base_uri": "https://localhost:8080/",
          "height": 34
        }
      },
      "source": [
        "cd ../"
      ],
      "execution_count": 13,
      "outputs": [
        {
          "output_type": "stream",
          "text": [
            "/content/SinGAN\n"
          ],
          "name": "stdout"
        }
      ]
    },
    {
      "cell_type": "code",
      "metadata": {
        "id": "NBVQZP1zGHtF"
      },
      "source": [
        "# !python main_train.py --input_name figure_1.png"
      ],
      "execution_count": null,
      "outputs": []
    },
    {
      "cell_type": "code",
      "metadata": {
        "id": "XAWE2Fn5GaQ2",
        "outputId": "959925a9-dfa0-49e7-c4e2-dd4d3dcfe450",
        "colab": {
          "base_uri": "https://localhost:8080/",
          "height": 1000
        }
      },
      "source": [
        "!python SR.py --input_name figure_1.png --sr_factor=100"
      ],
      "execution_count": null,
      "outputs": [
        {
          "output_type": "stream",
          "text": [
            "Random Seed:  2946\n",
            "*** Train SinGAN for SR ***\n",
            "GeneratorConcatSkip2CleanAdd(\n",
            "  (head): ConvBlock(\n",
            "    (conv): Conv2d(3, 32, kernel_size=(3, 3), stride=(1, 1))\n",
            "    (norm): BatchNorm2d(32, eps=1e-05, momentum=0.1, affine=True, track_running_stats=True)\n",
            "    (LeakyRelu): LeakyReLU(negative_slope=0.2, inplace=True)\n",
            "  )\n",
            "  (body): Sequential(\n",
            "    (block1): ConvBlock(\n",
            "      (conv): Conv2d(32, 32, kernel_size=(3, 3), stride=(1, 1))\n",
            "      (norm): BatchNorm2d(32, eps=1e-05, momentum=0.1, affine=True, track_running_stats=True)\n",
            "      (LeakyRelu): LeakyReLU(negative_slope=0.2, inplace=True)\n",
            "    )\n",
            "    (block2): ConvBlock(\n",
            "      (conv): Conv2d(32, 32, kernel_size=(3, 3), stride=(1, 1))\n",
            "      (norm): BatchNorm2d(32, eps=1e-05, momentum=0.1, affine=True, track_running_stats=True)\n",
            "      (LeakyRelu): LeakyReLU(negative_slope=0.2, inplace=True)\n",
            "    )\n",
            "    (block3): ConvBlock(\n",
            "      (conv): Conv2d(32, 32, kernel_size=(3, 3), stride=(1, 1))\n",
            "      (norm): BatchNorm2d(32, eps=1e-05, momentum=0.1, affine=True, track_running_stats=True)\n",
            "      (LeakyRelu): LeakyReLU(negative_slope=0.2, inplace=True)\n",
            "    )\n",
            "  )\n",
            "  (tail): Sequential(\n",
            "    (0): Conv2d(32, 3, kernel_size=(3, 3), stride=(1, 1))\n",
            "    (1): Tanh()\n",
            "  )\n",
            ")\n",
            "WDiscriminator(\n",
            "  (head): ConvBlock(\n",
            "    (conv): Conv2d(3, 32, kernel_size=(3, 3), stride=(1, 1))\n",
            "    (norm): BatchNorm2d(32, eps=1e-05, momentum=0.1, affine=True, track_running_stats=True)\n",
            "    (LeakyRelu): LeakyReLU(negative_slope=0.2, inplace=True)\n",
            "  )\n",
            "  (body): Sequential(\n",
            "    (block1): ConvBlock(\n",
            "      (conv): Conv2d(32, 32, kernel_size=(3, 3), stride=(1, 1))\n",
            "      (norm): BatchNorm2d(32, eps=1e-05, momentum=0.1, affine=True, track_running_stats=True)\n",
            "      (LeakyRelu): LeakyReLU(negative_slope=0.2, inplace=True)\n",
            "    )\n",
            "    (block2): ConvBlock(\n",
            "      (conv): Conv2d(32, 32, kernel_size=(3, 3), stride=(1, 1))\n",
            "      (norm): BatchNorm2d(32, eps=1e-05, momentum=0.1, affine=True, track_running_stats=True)\n",
            "      (LeakyRelu): LeakyReLU(negative_slope=0.2, inplace=True)\n",
            "    )\n",
            "    (block3): ConvBlock(\n",
            "      (conv): Conv2d(32, 32, kernel_size=(3, 3), stride=(1, 1))\n",
            "      (norm): BatchNorm2d(32, eps=1e-05, momentum=0.1, affine=True, track_running_stats=True)\n",
            "      (LeakyRelu): LeakyReLU(negative_slope=0.2, inplace=True)\n",
            "    )\n",
            "  )\n",
            "  (tail): Conv2d(32, 1, kernel_size=(3, 3), stride=(1, 1))\n",
            ")\n",
            "scale 0:[0/2000]\n",
            "scale 0:[25/2000]\n",
            "scale 0:[50/2000]\n",
            "scale 0:[75/2000]\n",
            "scale 0:[100/2000]\n",
            "scale 0:[125/2000]\n",
            "scale 0:[150/2000]\n",
            "scale 0:[175/2000]\n",
            "scale 0:[200/2000]\n",
            "scale 0:[225/2000]\n",
            "scale 0:[250/2000]\n",
            "scale 0:[275/2000]\n",
            "scale 0:[300/2000]\n",
            "scale 0:[325/2000]\n",
            "scale 0:[350/2000]\n",
            "scale 0:[375/2000]\n",
            "scale 0:[400/2000]\n",
            "scale 0:[425/2000]\n",
            "scale 0:[450/2000]\n",
            "scale 0:[475/2000]\n",
            "scale 0:[500/2000]\n",
            "scale 0:[525/2000]\n",
            "scale 0:[550/2000]\n",
            "scale 0:[575/2000]\n",
            "scale 0:[600/2000]\n",
            "scale 0:[625/2000]\n",
            "scale 0:[650/2000]\n",
            "scale 0:[675/2000]\n",
            "scale 0:[700/2000]\n",
            "scale 0:[725/2000]\n",
            "scale 0:[750/2000]\n",
            "scale 0:[775/2000]\n",
            "scale 0:[800/2000]\n",
            "scale 0:[825/2000]\n",
            "scale 0:[850/2000]\n",
            "scale 0:[875/2000]\n",
            "scale 0:[900/2000]\n",
            "scale 0:[925/2000]\n",
            "scale 0:[950/2000]\n",
            "scale 0:[975/2000]\n",
            "scale 0:[1000/2000]\n",
            "scale 0:[1025/2000]\n",
            "scale 0:[1050/2000]\n",
            "scale 0:[1075/2000]\n",
            "scale 0:[1100/2000]\n",
            "scale 0:[1125/2000]\n",
            "scale 0:[1150/2000]\n",
            "scale 0:[1175/2000]\n",
            "scale 0:[1200/2000]\n",
            "scale 0:[1225/2000]\n",
            "scale 0:[1250/2000]\n",
            "scale 0:[1275/2000]\n",
            "scale 0:[1300/2000]\n",
            "scale 0:[1325/2000]\n",
            "scale 0:[1350/2000]\n",
            "scale 0:[1375/2000]\n",
            "scale 0:[1400/2000]\n",
            "scale 0:[1425/2000]\n",
            "scale 0:[1450/2000]\n",
            "scale 0:[1475/2000]\n",
            "scale 0:[1500/2000]\n",
            "scale 0:[1525/2000]\n",
            "scale 0:[1550/2000]\n",
            "scale 0:[1575/2000]\n",
            "scale 0:[1600/2000]\n",
            "scale 0:[1625/2000]\n",
            "scale 0:[1650/2000]\n",
            "scale 0:[1675/2000]\n",
            "scale 0:[1700/2000]\n",
            "scale 0:[1725/2000]\n",
            "scale 0:[1750/2000]\n",
            "scale 0:[1775/2000]\n",
            "scale 0:[1800/2000]\n",
            "scale 0:[1825/2000]\n",
            "scale 0:[1850/2000]\n",
            "scale 0:[1875/2000]\n",
            "scale 0:[1900/2000]\n",
            "scale 0:[1925/2000]\n",
            "scale 0:[1950/2000]\n",
            "scale 0:[1975/2000]\n",
            "scale 0:[1999/2000]\n",
            "GeneratorConcatSkip2CleanAdd(\n",
            "  (head): ConvBlock(\n",
            "    (conv): Conv2d(3, 32, kernel_size=(3, 3), stride=(1, 1))\n",
            "    (norm): BatchNorm2d(32, eps=1e-05, momentum=0.1, affine=True, track_running_stats=True)\n",
            "    (LeakyRelu): LeakyReLU(negative_slope=0.2, inplace=True)\n",
            "  )\n",
            "  (body): Sequential(\n",
            "    (block1): ConvBlock(\n",
            "      (conv): Conv2d(32, 32, kernel_size=(3, 3), stride=(1, 1))\n",
            "      (norm): BatchNorm2d(32, eps=1e-05, momentum=0.1, affine=True, track_running_stats=True)\n",
            "      (LeakyRelu): LeakyReLU(negative_slope=0.2, inplace=True)\n",
            "    )\n",
            "    (block2): ConvBlock(\n",
            "      (conv): Conv2d(32, 32, kernel_size=(3, 3), stride=(1, 1))\n",
            "      (norm): BatchNorm2d(32, eps=1e-05, momentum=0.1, affine=True, track_running_stats=True)\n",
            "      (LeakyRelu): LeakyReLU(negative_slope=0.2, inplace=True)\n",
            "    )\n",
            "    (block3): ConvBlock(\n",
            "      (conv): Conv2d(32, 32, kernel_size=(3, 3), stride=(1, 1))\n",
            "      (norm): BatchNorm2d(32, eps=1e-05, momentum=0.1, affine=True, track_running_stats=True)\n",
            "      (LeakyRelu): LeakyReLU(negative_slope=0.2, inplace=True)\n",
            "    )\n",
            "  )\n",
            "  (tail): Sequential(\n",
            "    (0): Conv2d(32, 3, kernel_size=(3, 3), stride=(1, 1))\n",
            "    (1): Tanh()\n",
            "  )\n",
            ")\n",
            "WDiscriminator(\n",
            "  (head): ConvBlock(\n",
            "    (conv): Conv2d(3, 32, kernel_size=(3, 3), stride=(1, 1))\n",
            "    (norm): BatchNorm2d(32, eps=1e-05, momentum=0.1, affine=True, track_running_stats=True)\n",
            "    (LeakyRelu): LeakyReLU(negative_slope=0.2, inplace=True)\n",
            "  )\n",
            "  (body): Sequential(\n",
            "    (block1): ConvBlock(\n",
            "      (conv): Conv2d(32, 32, kernel_size=(3, 3), stride=(1, 1))\n",
            "      (norm): BatchNorm2d(32, eps=1e-05, momentum=0.1, affine=True, track_running_stats=True)\n",
            "      (LeakyRelu): LeakyReLU(negative_slope=0.2, inplace=True)\n",
            "    )\n",
            "    (block2): ConvBlock(\n",
            "      (conv): Conv2d(32, 32, kernel_size=(3, 3), stride=(1, 1))\n",
            "      (norm): BatchNorm2d(32, eps=1e-05, momentum=0.1, affine=True, track_running_stats=True)\n",
            "      (LeakyRelu): LeakyReLU(negative_slope=0.2, inplace=True)\n",
            "    )\n",
            "    (block3): ConvBlock(\n",
            "      (conv): Conv2d(32, 32, kernel_size=(3, 3), stride=(1, 1))\n",
            "      (norm): BatchNorm2d(32, eps=1e-05, momentum=0.1, affine=True, track_running_stats=True)\n",
            "      (LeakyRelu): LeakyReLU(negative_slope=0.2, inplace=True)\n",
            "    )\n",
            "  )\n",
            "  (tail): Conv2d(32, 1, kernel_size=(3, 3), stride=(1, 1))\n",
            ")\n",
            "scale 1:[0/2000]\n",
            "scale 1:[25/2000]\n",
            "scale 1:[50/2000]\n",
            "scale 1:[75/2000]\n",
            "scale 1:[100/2000]\n",
            "scale 1:[125/2000]\n",
            "scale 1:[150/2000]\n",
            "scale 1:[175/2000]\n",
            "scale 1:[200/2000]\n",
            "scale 1:[225/2000]\n",
            "scale 1:[250/2000]\n",
            "scale 1:[275/2000]\n",
            "scale 1:[300/2000]\n",
            "scale 1:[325/2000]\n",
            "scale 1:[350/2000]\n",
            "scale 1:[375/2000]\n",
            "scale 1:[400/2000]\n",
            "scale 1:[425/2000]\n",
            "scale 1:[450/2000]\n",
            "scale 1:[475/2000]\n",
            "scale 1:[500/2000]\n",
            "scale 1:[525/2000]\n",
            "scale 1:[550/2000]\n",
            "scale 1:[575/2000]\n",
            "scale 1:[600/2000]\n",
            "scale 1:[625/2000]\n",
            "scale 1:[650/2000]\n",
            "scale 1:[675/2000]\n",
            "scale 1:[700/2000]\n",
            "scale 1:[725/2000]\n",
            "scale 1:[750/2000]\n",
            "scale 1:[775/2000]\n",
            "scale 1:[800/2000]\n",
            "scale 1:[825/2000]\n",
            "scale 1:[850/2000]\n",
            "scale 1:[875/2000]\n",
            "scale 1:[900/2000]\n",
            "scale 1:[925/2000]\n",
            "scale 1:[950/2000]\n",
            "scale 1:[975/2000]\n",
            "scale 1:[1000/2000]\n",
            "scale 1:[1025/2000]\n",
            "scale 1:[1050/2000]\n",
            "scale 1:[1075/2000]\n",
            "scale 1:[1100/2000]\n",
            "scale 1:[1125/2000]\n",
            "scale 1:[1150/2000]\n",
            "scale 1:[1175/2000]\n",
            "scale 1:[1200/2000]\n",
            "scale 1:[1225/2000]\n",
            "scale 1:[1250/2000]\n",
            "scale 1:[1275/2000]\n",
            "scale 1:[1300/2000]\n",
            "scale 1:[1325/2000]\n",
            "scale 1:[1350/2000]\n",
            "scale 1:[1375/2000]\n",
            "scale 1:[1400/2000]\n",
            "scale 1:[1425/2000]\n",
            "scale 1:[1450/2000]\n",
            "scale 1:[1475/2000]\n",
            "scale 1:[1500/2000]\n",
            "scale 1:[1525/2000]\n",
            "scale 1:[1550/2000]\n",
            "scale 1:[1575/2000]\n",
            "scale 1:[1600/2000]\n",
            "scale 1:[1625/2000]\n",
            "scale 1:[1650/2000]\n",
            "scale 1:[1675/2000]\n",
            "scale 1:[1700/2000]\n",
            "scale 1:[1725/2000]\n",
            "scale 1:[1750/2000]\n",
            "scale 1:[1775/2000]\n",
            "scale 1:[1800/2000]\n",
            "scale 1:[1825/2000]\n",
            "scale 1:[1850/2000]\n",
            "scale 1:[1875/2000]\n",
            "scale 1:[1900/2000]\n",
            "scale 1:[1925/2000]\n",
            "scale 1:[1950/2000]\n",
            "scale 1:[1975/2000]\n",
            "scale 1:[1999/2000]\n",
            "GeneratorConcatSkip2CleanAdd(\n",
            "  (head): ConvBlock(\n",
            "    (conv): Conv2d(3, 32, kernel_size=(3, 3), stride=(1, 1))\n",
            "    (norm): BatchNorm2d(32, eps=1e-05, momentum=0.1, affine=True, track_running_stats=True)\n",
            "    (LeakyRelu): LeakyReLU(negative_slope=0.2, inplace=True)\n",
            "  )\n",
            "  (body): Sequential(\n",
            "    (block1): ConvBlock(\n",
            "      (conv): Conv2d(32, 32, kernel_size=(3, 3), stride=(1, 1))\n",
            "      (norm): BatchNorm2d(32, eps=1e-05, momentum=0.1, affine=True, track_running_stats=True)\n",
            "      (LeakyRelu): LeakyReLU(negative_slope=0.2, inplace=True)\n",
            "    )\n",
            "    (block2): ConvBlock(\n",
            "      (conv): Conv2d(32, 32, kernel_size=(3, 3), stride=(1, 1))\n",
            "      (norm): BatchNorm2d(32, eps=1e-05, momentum=0.1, affine=True, track_running_stats=True)\n",
            "      (LeakyRelu): LeakyReLU(negative_slope=0.2, inplace=True)\n",
            "    )\n",
            "    (block3): ConvBlock(\n",
            "      (conv): Conv2d(32, 32, kernel_size=(3, 3), stride=(1, 1))\n",
            "      (norm): BatchNorm2d(32, eps=1e-05, momentum=0.1, affine=True, track_running_stats=True)\n",
            "      (LeakyRelu): LeakyReLU(negative_slope=0.2, inplace=True)\n",
            "    )\n",
            "  )\n",
            "  (tail): Sequential(\n",
            "    (0): Conv2d(32, 3, kernel_size=(3, 3), stride=(1, 1))\n",
            "    (1): Tanh()\n",
            "  )\n",
            ")\n",
            "WDiscriminator(\n",
            "  (head): ConvBlock(\n",
            "    (conv): Conv2d(3, 32, kernel_size=(3, 3), stride=(1, 1))\n",
            "    (norm): BatchNorm2d(32, eps=1e-05, momentum=0.1, affine=True, track_running_stats=True)\n",
            "    (LeakyRelu): LeakyReLU(negative_slope=0.2, inplace=True)\n",
            "  )\n",
            "  (body): Sequential(\n",
            "    (block1): ConvBlock(\n",
            "      (conv): Conv2d(32, 32, kernel_size=(3, 3), stride=(1, 1))\n",
            "      (norm): BatchNorm2d(32, eps=1e-05, momentum=0.1, affine=True, track_running_stats=True)\n",
            "      (LeakyRelu): LeakyReLU(negative_slope=0.2, inplace=True)\n",
            "    )\n",
            "    (block2): ConvBlock(\n",
            "      (conv): Conv2d(32, 32, kernel_size=(3, 3), stride=(1, 1))\n",
            "      (norm): BatchNorm2d(32, eps=1e-05, momentum=0.1, affine=True, track_running_stats=True)\n",
            "      (LeakyRelu): LeakyReLU(negative_slope=0.2, inplace=True)\n",
            "    )\n",
            "    (block3): ConvBlock(\n",
            "      (conv): Conv2d(32, 32, kernel_size=(3, 3), stride=(1, 1))\n",
            "      (norm): BatchNorm2d(32, eps=1e-05, momentum=0.1, affine=True, track_running_stats=True)\n",
            "      (LeakyRelu): LeakyReLU(negative_slope=0.2, inplace=True)\n",
            "    )\n",
            "  )\n",
            "  (tail): Conv2d(32, 1, kernel_size=(3, 3), stride=(1, 1))\n",
            ")\n",
            "scale 2:[0/2000]\n",
            "scale 2:[25/2000]\n",
            "scale 2:[50/2000]\n"
          ],
          "name": "stdout"
        }
      ]
    },
    {
      "cell_type": "markdown",
      "metadata": {
        "id": "9ZD_1TpG2nbE"
      },
      "source": [
        "エポック数は12回で終わった。"
      ]
    },
    {
      "cell_type": "code",
      "metadata": {
        "id": "sxGYzzHi2xQV",
        "outputId": "d2d9abed-04be-472b-fefc-550dbe7fbda6",
        "colab": {
          "base_uri": "https://localhost:8080/",
          "height": 34
        }
      },
      "source": [
        "ls"
      ],
      "execution_count": null,
      "outputs": [
        {
          "output_type": "stream",
          "text": [
            "\u001b[0m\u001b[01;34msample_data\u001b[0m/\n"
          ],
          "name": "stdout"
        }
      ]
    },
    {
      "cell_type": "code",
      "metadata": {
        "id": "XA2WPv3SKE_w",
        "outputId": "6aad2b96-2736-441f-88a7-bf345e817e1b",
        "colab": {
          "base_uri": "https://localhost:8080/",
          "height": 17
        }
      },
      "source": [
        "# ファイルのダウンロード\n",
        "# files.download(\"G(z_opt).png\")\n",
        "# files.download(\"real_scale.png\")\n",
        "files.download(\"fake_sample.png\")"
      ],
      "execution_count": null,
      "outputs": [
        {
          "output_type": "display_data",
          "data": {
            "application/javascript": [
              "\n",
              "    async function download(id, filename, size) {\n",
              "      if (!google.colab.kernel.accessAllowed) {\n",
              "        return;\n",
              "      }\n",
              "      const div = document.createElement('div');\n",
              "      const label = document.createElement('label');\n",
              "      label.textContent = `Downloading \"${filename}\": `;\n",
              "      div.appendChild(label);\n",
              "      const progress = document.createElement('progress');\n",
              "      progress.max = size;\n",
              "      div.appendChild(progress);\n",
              "      document.body.appendChild(div);\n",
              "\n",
              "      const buffers = [];\n",
              "      let downloaded = 0;\n",
              "\n",
              "      const channel = await google.colab.kernel.comms.open(id);\n",
              "      // Send a message to notify the kernel that we're ready.\n",
              "      channel.send({})\n",
              "\n",
              "      for await (const message of channel.messages) {\n",
              "        // Send a message to notify the kernel that we're ready.\n",
              "        channel.send({})\n",
              "        if (message.buffers) {\n",
              "          for (const buffer of message.buffers) {\n",
              "            buffers.push(buffer);\n",
              "            downloaded += buffer.byteLength;\n",
              "            progress.value = downloaded;\n",
              "          }\n",
              "        }\n",
              "      }\n",
              "      const blob = new Blob(buffers, {type: 'application/binary'});\n",
              "      const a = document.createElement('a');\n",
              "      a.href = window.URL.createObjectURL(blob);\n",
              "      a.download = filename;\n",
              "      div.appendChild(a);\n",
              "      a.click();\n",
              "      div.remove();\n",
              "    }\n",
              "  "
            ],
            "text/plain": [
              "<IPython.core.display.Javascript object>"
            ]
          },
          "metadata": {
            "tags": []
          }
        },
        {
          "output_type": "display_data",
          "data": {
            "application/javascript": [
              "download(\"download_3ba63d15-1d2d-471a-960b-e1b2064882a5\", \"fake_sample.png\", 73281)"
            ],
            "text/plain": [
              "<IPython.core.display.Javascript object>"
            ]
          },
          "metadata": {
            "tags": []
          }
        }
      ]
    },
    {
      "cell_type": "code",
      "metadata": {
        "id": "_VKlA8XALMOC",
        "outputId": "8efd6fe3-4f10-4b8a-a92c-e1a7e9d88edb",
        "colab": {
          "base_uri": "https://localhost:8080/",
          "height": 34
        }
      },
      "source": [
        "cd TrainedModels/"
      ],
      "execution_count": null,
      "outputs": [
        {
          "output_type": "stream",
          "text": [
            "/content/SinGAN/TrainedModels\n"
          ],
          "name": "stdout"
        }
      ]
    },
    {
      "cell_type": "code",
      "metadata": {
        "id": "2l0qHnkVHWGb",
        "outputId": "7133af30-af34-48c1-ca74-e09138c4c181",
        "colab": {
          "base_uri": "https://localhost:8080/",
          "height": 34
        }
      },
      "source": [
        "cd figure_1_1/"
      ],
      "execution_count": null,
      "outputs": [
        {
          "output_type": "stream",
          "text": [
            "/content/SinGAN/TrainedModels/figure_1_1\n"
          ],
          "name": "stdout"
        }
      ]
    },
    {
      "cell_type": "code",
      "metadata": {
        "id": "ospYJXVSLXkY",
        "outputId": "6d67e4b8-81e7-4769-e1b6-84dbc8898023",
        "colab": {
          "base_uri": "https://localhost:8080/",
          "height": 34
        }
      },
      "source": [
        "ls"
      ],
      "execution_count": null,
      "outputs": [
        {
          "output_type": "stream",
          "text": [
            "\u001b[0m\u001b[01;34msample_data\u001b[0m/\n"
          ],
          "name": "stdout"
        }
      ]
    },
    {
      "cell_type": "code",
      "metadata": {
        "id": "iiEIwBx-LcPq",
        "outputId": "230bd209-7493-469e-ec00-d9a71cbf3190",
        "colab": {
          "base_uri": "https://localhost:8080/",
          "height": 34
        }
      },
      "source": [
        "cd 'scale_factor=0.794328,alpha=100'/"
      ],
      "execution_count": null,
      "outputs": [
        {
          "output_type": "stream",
          "text": [
            "/content/SinGAN/TrainedModels/figure_1_1/scale_factor=0.794328,alpha=100\n"
          ],
          "name": "stdout"
        }
      ]
    },
    {
      "cell_type": "code",
      "metadata": {
        "id": "mf1TL0HQN2jZ",
        "outputId": "9eaa5e87-84de-47ce-b328-6f38d828ffd6",
        "colab": {
          "base_uri": "https://localhost:8080/",
          "height": 34
        }
      },
      "source": [
        "cd 11/"
      ],
      "execution_count": null,
      "outputs": [
        {
          "output_type": "stream",
          "text": [
            "/content/SinGAN/TrainedModels/figure_1_1/scale_factor=0.794328,alpha=100/11\n"
          ],
          "name": "stdout"
        }
      ]
    },
    {
      "cell_type": "code",
      "metadata": {
        "id": "Wz5IX8O0LfNc"
      },
      "source": [
        "# rm figure_3 -r"
      ],
      "execution_count": null,
      "outputs": []
    },
    {
      "cell_type": "code",
      "metadata": {
        "id": "y8Wx_FV1MA39",
        "outputId": "b7b49937-7e51-4526-d2b4-80b6a9968560",
        "colab": {
          "base_uri": "https://localhost:8080/"
        }
      },
      "source": [
        "cd ../"
      ],
      "execution_count": null,
      "outputs": [
        {
          "output_type": "stream",
          "text": [
            "/content/SinGAN\n"
          ],
          "name": "stdout"
        }
      ]
    },
    {
      "cell_type": "code",
      "metadata": {
        "id": "sncrJFX4JdQe"
      },
      "source": [
        ""
      ],
      "execution_count": null,
      "outputs": []
    }
  ]
}